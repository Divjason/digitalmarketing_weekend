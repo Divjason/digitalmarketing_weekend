{
 "cells": [
  {
   "cell_type": "markdown",
   "id": "2cbc6f71-6c36-41c5-9e1d-ca13e13f97a6",
   "metadata": {},
   "source": [
    "### 1. 데이터불러오기"
   ]
  },
  {
   "cell_type": "code",
   "execution_count": 3,
   "id": "c8785609-42c0-4593-a081-3967f7323c13",
   "metadata": {},
   "outputs": [],
   "source": [
    "data_file = open(\"00_data/text_data.txt\", \"r\", encoding=\"utf-8-sig\") # 100만개\n",
    "data_file.close()\n",
    "# 왜 꼭 굳이 데이터를 열어서 가져왔는데, 다시 닫아야할까?\n",
    "# 실제 파일을 로드해서 특정 변수안에 값을 넣었습니다.\n",
    "# 계속 로드 중이라고 판단, 해당 메모리 공간을 계속 사용 중!!!\n",
    "# 메모리 누수"
   ]
  },
  {
   "cell_type": "code",
   "execution_count": 5,
   "id": "88de5fbc-3d09-4c80-bce5-29903e02f8f5",
   "metadata": {},
   "outputs": [
    {
     "name": "stdout",
     "output_type": "stream",
     "text": [
      "test\n"
     ]
    }
   ],
   "source": [
    "with open(\"00_data/text_data.txt\", \"r\", encoding=\"utf-8-sig\") as file_desc :\n",
    "    print(\"test\")"
   ]
  },
  {
   "cell_type": "code",
   "execution_count": 6,
   "id": "cfcafa0f-6bd5-4189-b414-59d3c4bc8603",
   "metadata": {},
   "outputs": [
    {
     "name": "stdout",
     "output_type": "stream",
     "text": [
      "['안녕하세요. Dave Lee 입니다.\\n', '본 예제는 Plain Text 파일 예제입니다.\\n', '감사합니다.']\n"
     ]
    }
   ],
   "source": [
    "data_file = open(\"00_data/text_data.txt\", \"r\", encoding=\"utf-8-sig\")\n",
    "data_lines = data_file.readlines()\n",
    "print(data_lines)"
   ]
  },
  {
   "cell_type": "code",
   "execution_count": 7,
   "id": "98df677d-2b3f-4cf1-bb85-8b818a1bcc63",
   "metadata": {},
   "outputs": [
    {
     "name": "stdout",
     "output_type": "stream",
     "text": [
      "안녕하세요. Dave Lee 입니다.\n",
      "\n",
      "본 예제는 Plain Text 파일 예제입니다.\n",
      "\n",
      "감사합니다.\n"
     ]
    }
   ],
   "source": [
    "for data_line in data_lines :\n",
    "    print(data_line)\n",
    "data_file.close()"
   ]
  },
  {
   "cell_type": "code",
   "execution_count": 8,
   "id": "d998b05e-76c1-4077-bc06-e83bbfbeca8d",
   "metadata": {},
   "outputs": [
    {
     "name": "stdout",
     "output_type": "stream",
     "text": [
      "안녕하세요. Dave Lee 입니다.\n",
      "\n"
     ]
    }
   ],
   "source": [
    "data_file = open(\"00_data/text_data.txt\", \"r\", encoding=\"utf-8-sig\")\n",
    "data_line = data_file.readline()\n",
    "print(data_line)"
   ]
  },
  {
   "cell_type": "code",
   "execution_count": 9,
   "id": "f5cc6984-7c4e-4fa0-aa9f-8549d7f77222",
   "metadata": {},
   "outputs": [
    {
     "name": "stdout",
     "output_type": "stream",
     "text": [
      "본 예제는 Plain Text 파일 예제입니다.\n",
      "\n"
     ]
    }
   ],
   "source": [
    "data_line = data_file.readline()\n",
    "print(data_line)"
   ]
  },
  {
   "cell_type": "code",
   "execution_count": 10,
   "id": "949da2f2-1e92-41cf-b360-0f418473617e",
   "metadata": {},
   "outputs": [
    {
     "name": "stdout",
     "output_type": "stream",
     "text": [
      "감사합니다.\n"
     ]
    }
   ],
   "source": [
    "data_line = data_file.readline()\n",
    "print(data_line)"
   ]
  },
  {
   "cell_type": "code",
   "execution_count": 11,
   "id": "35236f1e-e4f6-416f-9bc9-9e78a29be5b8",
   "metadata": {},
   "outputs": [
    {
     "name": "stdout",
     "output_type": "stream",
     "text": [
      "안녕하세요. Dave Lee 입니다.\n",
      "본 예제는 Plain Text 파일 예제입니다.\n",
      "감사합니다.\n"
     ]
    }
   ],
   "source": [
    "data_file = open(\"00_data/text_data.txt\", \"r\", encoding=\"utf-8-sig\")\n",
    "data = data_file.read()\n",
    "print(data)"
   ]
  },
  {
   "cell_type": "markdown",
   "id": "b8dca93e-da97-487c-9ea4-0e5c87b343a4",
   "metadata": {},
   "source": [
    "### 2. 데이터 기록하기"
   ]
  },
  {
   "cell_type": "code",
   "execution_count": 13,
   "id": "985df30f-78ad-4157-868e-8291bc7ffd6a",
   "metadata": {},
   "outputs": [],
   "source": [
    "data_file = open(\"00_data/text_data_write.txt\", \"w\", encoding=\"utf-8-sig\")\n",
    "data_file.write(\"안녕하세요\\n\") # escape sequence => 생긴것은 보통의 문자열이나, 실제 본연의 기능!\n",
    "data_file.write(\"David 입니다.\\n\")\n",
    "data_file.close()"
   ]
  },
  {
   "cell_type": "code",
   "execution_count": 15,
   "id": "11d5a92a-3740-4782-884d-f510b4cfb9ad",
   "metadata": {},
   "outputs": [],
   "source": [
    "with open(\"00_data/text_data_write.txt\", \"a\", encoding=\"utf-8-sig\") as data_file :\n",
    "    data_file.write(\"본 파일은 임시 파일입니다.\")"
   ]
  },
  {
   "cell_type": "code",
   "execution_count": 18,
   "id": "6a1dc47d-0247-4346-ba38-cac9f15c5333",
   "metadata": {},
   "outputs": [
    {
     "name": "stdout",
     "output_type": "stream",
     "text": [
      "['video_id', 'title', 'channel_title', 'category_id', 'tags', 'views', 'likes', 'dislikes', 'comment_total', 'thumbnail_link', 'date']\n"
     ]
    }
   ],
   "source": [
    "import csv\n",
    "\n",
    "with open(\"00_data/USvideos.csv\", \"r\", encoding=\"utf-8-sig\") as data_file :\n",
    "    data_lines = csv.reader(data_file, delimiter=\",\")\n",
    "    for data_line in data_lines :\n",
    "        print(data_line)\n",
    "        break"
   ]
  },
  {
   "cell_type": "code",
   "execution_count": 24,
   "id": "e3f19673-0375-4434-a6e0-1f2ce2a05104",
   "metadata": {},
   "outputs": [
    {
     "name": "stdout",
     "output_type": "stream",
     "text": [
      "['video_id,title,channel_title,category_id,tags,views,likes,dislikes,comment_total,thumbnail_link,date']\n",
      "['XpVt6Z1Gjjo,\"1', 'YEAR', 'OF', 'VLOGGING', '--', 'HOW', 'LOGAN', 'PAUL', 'CHANGED', 'YOUTUBE', 'FOREVER!\",\"Logan', 'Paul', 'Vlogs\",24,logan', 'paul', 'vlog|logan', 'paul|logan|paul|olympics|logan', 'paul', 'youtube|vlog|daily|comedy|hollywood|parrot|maverick|bird|maverick', 'clothes|diamond', 'play', 'button|logan', 'paul', 'diamond', 'play', 'button|10M', 'subscribers|logan', 'paul', '1', 'year', 'vlogging|1', 'year', 'vlog|dwarf', 'mamba', 'play', 'button|logan', 'paul', 'history|youtube', 'history|10M|10M', 'plaque|youtube', 'button|diamond', 'button|logang|logang', '4', 'life,4394029,320053,5931,46245,https://i.ytimg.com/vi/XpVt6Z1Gjjo/default.jpg,13.09']\n",
      "['K4wEI5zhHB0,\"iPhone', 'X', '—', 'Introducing', 'iPhone', 'X', '—', 'Apple\",\"Apple\",28,Apple|iPhone', '10|iPhone', 'Ten|iPhone|Portrait', 'Lighting|A11', 'Bionic|augmented', 'reality|emoji|animoji|Face', 'ID|Apple', 'Pay|camera|smartphone,7860119,185853,26679,0,https://i.ytimg.com/vi/K4wEI5zhHB0/default.jpg,13.09']\n",
      "['cLdxuaxaQwc,\"My', 'Response\",\"PewDiePie\",22,[none],5845909,576597,39774,170708,https://i.ytimg.com/vi/cLdxuaxaQwc/default.jpg,13.09']\n",
      "['WYYvHb03Eog,\"Apple', 'iPhone', 'X', 'first', 'look\",\"The', 'Verge\",28,apple', 'iphone', 'x', 'hands', 'on|Apple', 'iPhone', 'X|iPhone', 'X|apple', 'iphone', 'x', 'first', 'look|iPhone', 'X', 'first', 'look|apple', 'iphone', 'x', 'event', '2017|apple', 'iphone', 'x', 'event|iPhone', 'X', 'price|iPhone', 'X', 'specs|iPhone', 'X', 'design|iPhone', 'X', 'camera|iPhone', 'X', 'home', 'button|iPhone', 'X', 'wireless', 'charging|iPhone', 'X', 'waterproof|iPhone', 'X', 'release', 'date|iphone', '2017|apple|iphone|ios', '11|the', 'verge|verge,2642103,24975,4542,12829,https://i.ytimg.com/vi/WYYvHb03Eog/default.jpg,13.09']\n",
      "['sjlHnJvXdQs,\"iPhone', 'X', '(parody)\",\"jacksfilms\",23,jacksfilms|parody|parodies|iphone|iphone', 'x|iphone', '8|apple|emoji,1168130,96666,568,6666,https://i.ytimg.com/vi/sjlHnJvXdQs/default.jpg,13.09']\n",
      "['cMKX2tE5Luk,\"The', 'Disaster', 'Artist', '|', 'Official', 'Trailer', 'HD', '|', 'A24\",\"A24\",1,a24|a24', 'films|a24', 'trailers|independent', 'films|trailer|HD|official|movie|film|a24', 'movies|oscar', 'winner|academy', 'award', 'winner|The', 'Disaster', 'Artist|room|james', 'franco|greg', 'sestero|tom', 'bissell|dave', 'franco|seth', 'rogen|seth', 'rogan|room', 'trailer|The', 'Disaster', 'Artist', 'trailer|The', 'Disaster', 'Artist', 'film|disaster|artist|the', 'room|the', 'room', 'movie|Tommy', 'Wiseau|cult', 'classic|the', 'room', 'behind', 'the', 'scenes|Juliette', 'Danielle|oh', 'hi', 'mark|the', 'worst', 'film', 'ever', 'made|comedy|biographical,1311445,34507,544,3040,https://i.ytimg.com/vi/cMKX2tE5Luk/default.jpg,13.09']\n",
      "['8wNr-NQImFg,\"The', 'Check', 'In:', 'HUD,', 'Ben', 'Carson', 'and', 'Hurricanes\",\"Late', 'Night', 'with', 'Seth', 'Meyers\",23,Late', 'night|Seth', 'Meyers|check', 'in|hud|Ben', 'Carson|NBC|NBC', 'TV|television|funny|talk', 'show|comedy|humor|stand-up|parody|snl', 'seth', 'meyers|host|promo|seth|meyers|weekend', 'update|news', 'satire|satire|surgeon|neurosurgeon|Housing', 'Secretary|Elizabeth', 'Warren|Gifted', 'Hands|Housing', '&', 'Urban', 'Development|ProPublica|HLN|Hurricane', 'Harvey|Texas|EPA,666169,9985,297,1071,https://i.ytimg.com/vi/8wNr-NQImFg/default.jpg,13.09']\n",
      "['_HTXMhKWqnA,\"iPhone', 'X', 'Impressions', '&', 'Hands', 'On!\",\"Marques', 'Brownlee\",28,iPhone', 'X|iphone', 'x|iphone', '10|iPhone', 'X', 'impressions|hands', 'on|iphone', '8|iphone', '8', 'plus|iphone', '8', 'impressions|iPhone', 'X', 'hands', 'on|new', 'iphone|iphone', 'unboxing|iphone', 'x', 'unboxing|iphone', 'x', 'announcement|the', 'iphone', 'x|iphone', 'x', 'vs|iPhone', 'X', 'vs', 'iPhone', '8|iPhone', '8', 'vs|MKBHD|iphone', 'x', 'features|iphone', 'x', 'keynote|face', 'id|face', 'unlock|super', 'retina', 'display,1728614,74062,2180,15297,https://i.ytimg.com/vi/_HTXMhKWqnA/default.jpg,13.09']\n",
      "['_ANP3HR1jsM,\"ATTACKED', 'BY', 'A', 'POLICE', 'DOG!!\",\"RomanAtwoodVlogs\",22,Roman', 'Atwood|Roman|Atwood|roman', 'atwood', 'vlogs|family', 'vlogs|roman', 'vlogs|youtube', 'pranks|atwood', 'vlogs|noah', 'atwood|kane', 'atwood|brittney|roman', 'soldiers|kid-friendly|kid', 'friendly|family-friendly|family', 'friendly|family', 'fun|Vlogs2017|vlog|vlogs|vlogger|vlogging|day|daily|Everyday|Smile', 'more|Roman', 'atwoods|House|Home|Kids|Noah|Kane|donkey|Empire|flash|Husky|Dog|Girlfriend|Britt|police|dog|K9|cops|fireman|fire', 'truck,1338533,69687,678,5643,https://i.ytimg.com/vi/_ANP3HR1jsM/default.jpg,13.09']\n"
     ]
    }
   ],
   "source": [
    "import csv\n",
    "\n",
    "with open(\"00_data/USvideos.csv\", \"r\", encoding=\"utf-8-sig\") as data_file :\n",
    "    data_lines = csv.reader(data_file, delimiter=\" \")\n",
    "    for i, data_line in enumerate(data_lines) :\n",
    "        print(data_line)\n",
    "        if i == 9 :\n",
    "            break"
   ]
  },
  {
   "cell_type": "code",
   "execution_count": 26,
   "id": "1ca2f33b-4eb5-411b-a6f0-ccbac10021b8",
   "metadata": {},
   "outputs": [],
   "source": [
    "import csv\n",
    "\n",
    "with open(\"00_data/tmp01_csv.csv\", \"w\", encoding=\"utf-8-sig\") as data_file :\n",
    "    data_write = csv.writer(data_file, delimiter=\",\")\n",
    "    data_write.writerow([\"1\", \"2\", \"3\"])\n",
    "    data_write.writerow([\"love\"] * 3 + [\"banana\"])\n",
    "    data_write.writerow([\"apple\", 2])\n",
    "    data_write.writerow([\"spam\", \"Lovely Spam\", \"Wondelful Spam\"])"
   ]
  },
  {
   "cell_type": "code",
   "execution_count": 27,
   "id": "90e93b01-9860-4842-b4bb-c7e6a4568292",
   "metadata": {},
   "outputs": [],
   "source": [
    "import csv\n",
    "\n",
    "with open(\"00_data/tmp02_csv.csv\", \"w\", encoding=\"utf-8-sig\") as writer_csv :\n",
    "    field_name_list = [\"First Name\", \"Last Name\"] # [] => 리스트 자료구조 형태\n",
    "    writer = csv.DictWriter(writer_csv, fieldnames=field_name_list)\n",
    "    writer.writeheader()\n",
    "    writer.writerow({\"First Name\":\"Son\", \"Last Name\":\"HM\"}) # {} => 딕셔너리 자료구조 형태\n",
    "    writer.writerow({\"First Name\":\"Lee\", \"Last Name\":\"KI\"}) # {} => 딕셔너리 자료구조 형태\n",
    "    writer.writerow({\"First Name\":\"Kim\", \"Last Name\":\"MJ\"}) # {} => 딕셔너리 자료구조 형태"
   ]
  },
  {
   "cell_type": "code",
   "execution_count": 30,
   "id": "af6450b8-5ff6-4a45-8270-4200c0e91e05",
   "metadata": {},
   "outputs": [
    {
     "name": "stdout",
     "output_type": "stream",
     "text": [
      "Son HM\n",
      "Lee KI\n",
      "Kim MJ\n"
     ]
    }
   ],
   "source": [
    "import csv\n",
    "\n",
    "with open(\"00_data/tmp02_csv.csv\", \"r\", encoding=\"utf-8-sig\") as reader_csv :\n",
    "    reader = csv.DictReader(reader_csv)\n",
    "    for row in reader :\n",
    "        print(row[\"First Name\"], row[\"Last Name\"])"
   ]
  }
 ],
 "metadata": {
  "kernelspec": {
   "display_name": "Python [conda env:base] *",
   "language": "python",
   "name": "conda-base-py"
  },
  "language_info": {
   "codemirror_mode": {
    "name": "ipython",
    "version": 3
   },
   "file_extension": ".py",
   "mimetype": "text/x-python",
   "name": "python",
   "nbconvert_exporter": "python",
   "pygments_lexer": "ipython3",
   "version": "3.13.5"
  }
 },
 "nbformat": 4,
 "nbformat_minor": 5
}
