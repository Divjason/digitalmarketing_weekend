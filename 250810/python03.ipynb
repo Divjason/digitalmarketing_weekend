{
 "cells": [
  {
   "cell_type": "code",
   "execution_count": 3,
   "id": "cc9e201d-ec6c-4807-bd33-1bfe3397ddc2",
   "metadata": {},
   "outputs": [
    {
     "name": "stdout",
     "output_type": "stream",
     "text": [
      "✅ 네이버 연관키워드 분석결과가 저장되었습니다!\n"
     ]
    }
   ],
   "source": [
    "# 내 작업폴더 안에서 엑셀파일을 찾아오도록 도와주는 라이브러리 함수\n",
    "from openpyxl import load_workbook\n",
    "from collections import Counter\n",
    "from konlpy.tag import Okt\n",
    "import re\n",
    "\n",
    "wb = load_workbook(\"연관키워드 20250810 1713.xlsx\")\n",
    "ws = wb.active\n",
    "\n",
    "texts = [row[0] for row in ws.iter_rows(min_row=2, max_col=1, values_only=True) if row[0]]\n",
    "all_text = \" \".join(texts)\n",
    "\n",
    "okt = Okt()\n",
    "noun_tokens = okt.nouns(all_text)\n",
    "regex_tokens = re.findall(r\"[A-Za-z]*\\d+[A-Za-z]\\d+[A-Za-z]*\", all_text)\n",
    "\n",
    "valid_one_letter = {\"금\", \"은\", \"동\", \"귀\", \"꽃\", \"롱\", \"별\", \"컷\", \"링\"}\n",
    "stopwords = {\"사용\", \"정도\", \"조금\", \"제품\", \"때문\", \"생각\", \"구매\", \"다음\"}\n",
    "\n",
    "combined_tokens = noun_tokens + regex_tokens\n",
    "filtered_tokens = [t for t in combined_tokens if (len(t) > 1 or t in valid_one_letter) and t not in stopwords]\n",
    "\n",
    "count = Counter(filtered_tokens)\n",
    "\n",
    "ws_keywords = wb.create_sheet(\"final keyword\")\n",
    "ws_keywords.append([\"키워드\", \"빈도수\"])\n",
    "\n",
    "for word, freq in sorted(count.items(), key=lambda x: x[1], reverse=True) :\n",
    "    ws_keywords.append([word, freq])\n",
    "\n",
    "wb.save(\"연관키워드_분석결과.xlsx\")\n",
    "print(\"✅ 네이버 연관키워드 분석결과가 저장되었습니다!\")"
   ]
  },
  {
   "cell_type": "code",
   "execution_count": null,
   "id": "07a07a10-1d40-49a0-b305-c823d4cbd5c9",
   "metadata": {},
   "outputs": [],
   "source": []
  }
 ],
 "metadata": {
  "kernelspec": {
   "display_name": "Python [conda env:base] *",
   "language": "python",
   "name": "conda-base-py"
  },
  "language_info": {
   "codemirror_mode": {
    "name": "ipython",
    "version": 3
   },
   "file_extension": ".py",
   "mimetype": "text/x-python",
   "name": "python",
   "nbconvert_exporter": "python",
   "pygments_lexer": "ipython3",
   "version": "3.13.5"
  }
 },
 "nbformat": 4,
 "nbformat_minor": 5
}
