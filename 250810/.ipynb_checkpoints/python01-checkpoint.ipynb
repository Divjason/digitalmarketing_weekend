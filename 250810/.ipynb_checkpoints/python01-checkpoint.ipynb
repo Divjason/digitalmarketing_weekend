{
 "cells": [
  {
   "cell_type": "markdown",
   "id": "a2567d78-03ba-4ded-a112-d4a3617c01a1",
   "metadata": {},
   "source": [
    "### 파이썬을 활용한 데이터 크롤링의 효율적인 방법\n",
    "\n",
    "1. 일단 코드를 작성하기 전에 한글로 내가 지금 무엇을 하고 싶은 것인지를 작성해라.\n",
    "2. 모든 프로그래밍 언어는 매우 지극히 상식적이다 라는 생각을 하세요.\n",
    "3. 1번 2번이 해결된 상태에서 코드를 작성하다가 막혔다면, 해당 막힌 부분에 한해서 생성형 AI에게 질문하세요.\n",
    "4. 오늘 알려드리는 파이썬 기초 문법은 그냥 일단 반복해서 사용하시면 익숙(*반복)해지세요. -> 그리고 외우세요."
   ]
  },
  {
   "cell_type": "markdown",
   "id": "045476d4-ef4e-41e6-9ebd-a0503ddb0471",
   "metadata": {},
   "source": [
    "#### 다음 포털사이트 > IT뉴스 카테고리에 들어가서 기사 10개 타이틀을 가져오기\n",
    "- 내가 크롤링하고자 하는 사이트의 주소 : https://news.daum.net/tech\n",
    "- 해당 주소에 내가 먼저 접속해서 찾아오고자하는 타이틀이 어디에 있는지 확인 : ul.list_newsheadline2 li a.item_newsheadline2\n",
    "- 해당 타이틀을 확인했다면, 10개의 타이틀이 어떤 구조 속에 들어가 있는지 확인 : ul태그 내부에 li태그가 존재, a태그가 경로 url & 타이틀 존재\n",
    "- 파이썬의 어떤 문법을 활용해서 방금까지 확인한 데이터를 찾아오면 좋을지 고민 // 생성형 AI에게 물어보기\n",
    "  > 해당 값을 크롤링해줘~!!"
   ]
  },
  {
   "cell_type": "code",
   "execution_count": 1,
   "id": "00966f9c-f4bf-44d0-b577-3a0ce7440529",
   "metadata": {},
   "outputs": [
    {
     "name": "stdout",
     "output_type": "stream",
     "text": [
      "✅ 1. MS, 이스라엘군 클라우드 지원 의혹에 '진실공방'…논란 가열 (지디넷코리아=한정호  기자)마이크로소프트(MS)가 자사 클라우드 플랫폼 '애저'를 통한 이스라엘 군 정보기관의 활용 실태에 대한 조사에 착수했다. 이 과정에서 이스라엘 내 일부 직원들이 민감한 군사 프로젝트와 관련된 핵심 정보를 의도적으로 누락했을 가능성이 제기됐다. 10일 가디언에 따르면 이스라엘 군사 감시기관인 8200부대는 가자지구와 요르단강 서안에 지디넷코리아 4분 전 - https://v.daum.net/v/20250810113511725\n",
      "✅ 2. 내일부터 하반기 전공의 모집 시작…‘수도권·인기과’ 쏠림 우려 여전 조선비즈 6분 전 - https://v.daum.net/v/20250810113336708\n",
      "✅ 3. 美 생물보안법 국방수권법 통해 재추진 디지털타임스 12분 전 - https://v.daum.net/v/20250810112757615\n",
      "✅ 4. [K-AI 도전]②SKT \"GPU 하루 1억원 태우는 도전…실용성 앞세운 AI\" 아시아경제 14분 전 - https://v.daum.net/v/20250810112511576\n",
      "✅ 5. [인터뷰]임기철 GIST총장 \"AI 전진기지 만들어 갈 것\" 지디넷코리아 37분 전 - https://v.daum.net/v/20250810110212143\n",
      "✅ 6. 원화 스테이블코인 모델은 USDT·USDC? 비즈워치 38분 전 - https://v.daum.net/v/20250810110136124\n",
      "✅ 7. 장병태 UIPA 원장 \"울산은 '제조업 수도'서 'AI 수도'로 탈바꿈 중\" 지디넷코리아 38분 전 - https://v.daum.net/v/20250810110122108\n",
      "✅ 8. '이자 주는 스테이블코인'…국회 선택은? [린의 행정과 법률] 한국경제 1시간 전 - https://v.daum.net/v/20250810103136601\n",
      "✅ 9. 정부, 이통사와 주파수 재할당 의견수렴 회의…기간·대가산정 논의 본격화 전자신문 1시간 전 - https://v.daum.net/v/20250810101438303\n"
     ]
    }
   ],
   "source": [
    "import requests\n",
    "from bs4 import BeautifulSoup\n",
    "\n",
    "url = \"https://news.daum.net/tech\"\n",
    "\n",
    "# Console > window.navigator.userAgent\n",
    "headers = {\n",
    "    \"User-Agent\":\"Mozilla/5.0 (Macintosh; Intel Mac OS X 10_15_7) AppleWebKit/537.36 (KHTML, like Gecko) Chrome/139.0.0.0 Safari/537.36\"\n",
    "}\n",
    "\n",
    "# Crawler\n",
    "response = requests.get(url, headers=headers)\n",
    "response.encoding = \"utf-8\"\n",
    "\n",
    "soup = BeautifulSoup(response.text, \"html.parser\")\n",
    "articles = soup.select(\"ul.list_newsheadline2 li a.item_newsheadline2\")\n",
    "\n",
    "for i, article in enumerate(articles, 1) :\n",
    "    title = article.text.strip()\n",
    "    link = article[\"href\"]\n",
    "    print(f\"✅ {i}. {title} - {link}\") #f-string 문법 => formatted string"
   ]
  },
  {
   "cell_type": "code",
   "execution_count": 15,
   "id": "d0b87172-50f4-4b5b-b773-c8b030e71daa",
   "metadata": {},
   "outputs": [
    {
     "name": "stdout",
     "output_type": "stream",
     "text": [
      "□  (종합) 오늘 남해안과 제주도 중심 비, 남쪽 중심 풍랑, 너울 유의\n"
     ]
    }
   ],
   "source": [
    "import requests\n",
    "from bs4 import BeautifulSoup\n",
    "\n",
    "url = \"https://www.weather.go.kr/w/weather/forecast/short-term.do\"\n",
    "\n",
    "headers = {\n",
    "    \"User-Agent\":\"Mozilla/5.0 (Macintosh; Intel Mac OS X 10_15_7) AppleWebKit/537.36 (KHTML, like Gecko) Chrome/139.0.0.0 Safari/537.36\" \n",
    "}\n",
    "\n",
    "response = requests.get(url, headers=headers)\n",
    "# print(response)\n",
    "\n",
    "response.encoding = \"utf-8\"\n",
    "soup = BeautifulSoup(response.text, \"html.parser\")\n",
    "# print(soup)\n",
    "\n",
    "summary_tag = soup.select_one(\"div.cmp-view-content > p.summary > span.depth_1\")\n",
    "print(summary_tag.text.strip())"
   ]
  },
  {
   "cell_type": "code",
   "execution_count": 16,
   "id": "04fca2d1-6b3c-4832-b574-17920e578b49",
   "metadata": {},
   "outputs": [
    {
     "name": "stdout",
     "output_type": "stream",
     "text": [
      "1. 행정 분야 자체 LLM 도입… `글로벌 AI 행정도시` 시동 건다\n",
      "2. 서울시, 중장년 기술창업 지원 강화…입주기업 70% 쿼터제 첫 도입\n",
      "3. 서울시, 중소기업 연쇄부도·수출 피해 '보험'으로 막는다…추경 20억 편성\n",
      "4. (새소식2025-57)(#양주)'지웰 엘리움 양주 덕계역' 서울시 장애인 특별공급 기관추천 안내\n",
      "5. (새소식2025-56)(#용인)'용인 고진역 대광로제비앙' 서울시 장애인 특별공급 기관추천 안내\n",
      "6. 광복절엔 서울광장으로!…과거와 현재를 잇는 태극기 언덕에서 광복의 기쁨 만끽\n",
      "7. (추천명단)(#남양주)'남양주진접2 A-1블록' 서울시 장애인 특별공급 기관추천 명단\n",
      "8. (앵콜행사) 넥스트로컬 팝업\n",
      "9. 서울시가 쓰레기를 줄이는 방법!\n",
      "10. 온라인 이벤트, 무료 체험 후 정기결제 전환되는 피해 많아\n"
     ]
    }
   ],
   "source": [
    "import requests\n",
    "from bs4 import BeautifulSoup\n",
    "\n",
    "url = \"https://www.seoul.go.kr/realmnews/in/list.do\"\n",
    "\n",
    "headers = {\n",
    "    \"User-Agent\":\"Mozilla/5.0 (Macintosh; Intel Mac OS X 10_15_7) AppleWebKit/537.36 (KHTML, like Gecko) Chrome/139.0.0.0 Safari/537.36\" \n",
    "}\n",
    "\n",
    "response = requests.get(url, headers=headers)\n",
    "# print(response)\n",
    "\n",
    "# 프로그래밍 언어 => 대문자, 소문자 구분 // 띄어쓰기 공백 영역도 문자 인식 // 콤마(,) 모든 것들이 다 정석적인 방법\n",
    "\n",
    "response.encoding = \"utf-8\"\n",
    "soup = BeautifulSoup(response.text, \"html.parser\")\n",
    "# print(soup)\n",
    "\n",
    "notices = soup.select(\"div.news-lst span.tbx > em.subject\")\n",
    "\n",
    "for i, notice in enumerate(notices[0:10], 1) :\n",
    "    title = notice.text.strip()\n",
    "    print(f\"{i}. {title}\")"
   ]
  },
  {
   "cell_type": "code",
   "execution_count": 14,
   "id": "ed86bc33-3c07-4f9c-9649-c7d70d085b93",
   "metadata": {},
   "outputs": [
    {
     "name": "stdout",
     "output_type": "stream",
     "text": [
      "마케팅(영어: marketing)은 시장 경제(영어: exchange relationship) 또는 수요를 관리하는 경영학의 한 분야이다. 소비자를 대상으로 고객을 창조하고 유지 · 관리함으로써 고정고객으로 만드는 모든 활동 즉, 고객과 관련된 모든 활동을 의미한다. 마케팅은 광고, 영업 등을 포함하며 창의성을 내포하는 산업이자 소비자가 가질 수 있는 미래의 요구와 욕구를 예측하는 일로 한정되었으나 21세기 이후에는 어떤 '잠재적인 욕구'를 자극하여 표면상으로 이끌어 내는 행위나 동기로 용어의 적용 범위가 확대되고, 시장에서 벗어나 일상의 행위에서도 마케팅이라는 용어가 등장하게 되었다.\n"
     ]
    }
   ],
   "source": [
    "import requests\n",
    "from bs4 import BeautifulSoup\n",
    "\n",
    "url = \"https://ko.wikipedia.org/wiki/마케팅\"\n",
    "\n",
    "headers = {\n",
    "    \"User-Agent\":\"Mozilla/5.0 (Macintosh; Intel Mac OS X 10_15_7) AppleWebKit/537.36 (KHTML, like Gecko) Chrome/139.0.0.0 Safari/537.36\" \n",
    "}\n",
    "\n",
    "response = requests.get(url, headers=headers)\n",
    "# print(response)\n",
    "\n",
    "# 프로그래밍 언어 => 대문자, 소문자 구분 // 띄어쓰기 공백 영역도 문자 인식 // 콤마(,) 모든 것들이 다 정석적인 방법\n",
    "\n",
    "response.encoding = \"utf-8\"\n",
    "soup = BeautifulSoup(response.text, \"html.parser\")\n",
    "# print(soup)\n",
    "\n",
    "first_paragraph = soup.select_one(\"div.mw-content-ltr.mw-parser-output > p\")\n",
    "print(first_paragraph.text.strip())\n",
    "\n",
    "# for i, notice in enumerate(notices[0:10], 1) :\n",
    "#     title = notice.text.strip()\n",
    "#     print(f\"{i}. {title}\")"
   ]
  },
  {
   "cell_type": "code",
   "execution_count": null,
   "id": "f600a864-1c32-46e2-b143-27e69c67160a",
   "metadata": {},
   "outputs": [],
   "source": []
  },
  {
   "cell_type": "code",
   "execution_count": null,
   "id": "47bd54c9-6d73-4f1e-81d6-9958a537badf",
   "metadata": {},
   "outputs": [],
   "source": []
  },
  {
   "cell_type": "code",
   "execution_count": null,
   "id": "b5b7ee98-8907-4d2c-b4e5-4e24595049f5",
   "metadata": {},
   "outputs": [],
   "source": []
  },
  {
   "cell_type": "code",
   "execution_count": null,
   "id": "87c50c0b-0f40-4127-8e68-b7f3911acc80",
   "metadata": {},
   "outputs": [],
   "source": []
  },
  {
   "cell_type": "code",
   "execution_count": null,
   "id": "5075182b-f7e4-4fff-bfe2-94722025a79a",
   "metadata": {},
   "outputs": [],
   "source": []
  },
  {
   "cell_type": "code",
   "execution_count": null,
   "id": "001ae6b1-5836-4a55-bb08-a619dfd695ba",
   "metadata": {},
   "outputs": [],
   "source": []
  },
  {
   "cell_type": "code",
   "execution_count": null,
   "id": "a23ec3a5-b547-47e5-9a71-f559aca776f2",
   "metadata": {},
   "outputs": [],
   "source": []
  }
 ],
 "metadata": {
  "kernelspec": {
   "display_name": "Python [conda env:base] *",
   "language": "python",
   "name": "conda-base-py"
  },
  "language_info": {
   "codemirror_mode": {
    "name": "ipython",
    "version": 3
   },
   "file_extension": ".py",
   "mimetype": "text/x-python",
   "name": "python",
   "nbconvert_exporter": "python",
   "pygments_lexer": "ipython3",
   "version": "3.13.5"
  }
 },
 "nbformat": 4,
 "nbformat_minor": 5
}
