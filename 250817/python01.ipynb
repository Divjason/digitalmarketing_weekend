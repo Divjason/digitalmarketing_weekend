{
 "cells": [
  {
   "cell_type": "code",
   "execution_count": 5,
   "id": "7b0bdc5b-afe1-4a99-a5f6-5d9e263904cf",
   "metadata": {},
   "outputs": [
    {
     "name": "stdout",
     "output_type": "stream",
     "text": [
      "목표키워드 : 반팔\n",
      "검색 완료. 현재 페이지 타이틀 : 반팔 | 무신사 추천 상품\n"
     ]
    }
   ],
   "source": [
    "from selenium import webdriver\n",
    "from selenium.webdriver.chrome.service import Service\n",
    "from selenium.webdriver.chrome.options import Options\n",
    "from selenium.webdriver.common.by import By\n",
    "from selenium.webdriver.common.keys import Keys\n",
    "from webdriver_manager.chrome import ChromeDriverManager\n",
    "import time\n",
    "\n",
    "service = Service(ChromeDriverManager().install())\n",
    "options = Options()\n",
    "# options.add_argument('--headless')\n",
    "# options.add_argument('--disable-gpu')\n",
    "options.add_argument('--disable-dev-shm-usage')\n",
    "options.add_argument('--window-size=1920x1080')\n",
    "options.add_argument('--start-maximized')\n",
    "options.add_argument('--user-agent=Mozilla/5.0 (Macintosh; Intel Mac OS X 10_15_7) AppleWebKit/537.36 (KHTML, like Gecko) Chrome/139.0.0.0 Safari/537.36')\n",
    "options.add_argument('--lang=ko_KR')\n",
    "\n",
    "driver = webdriver.Chrome(service=service, options=options)\n",
    "\n",
    "driver.get(\"https://www.musinsa.com/main/musinsa/recommend?gf=A\")\n",
    "time.sleep(3)\n",
    "\n",
    "search_button = driver.find_element(By.CLASS_NAME, \"sc-dzagxs-2\")\n",
    "search_button.click()\n",
    "time.sleep(2)\n",
    "\n",
    "popular_keywords = driver.find_elements(By.CSS_SELECTOR, \".search-home-popular-wrap .sc-1xzm8bl-2\")\n",
    "target_keyword = popular_keywords[1].text\n",
    "print(\"목표키워드 :\", target_keyword)\n",
    "\n",
    "search_input = driver.find_element(By.CLASS_NAME, \"search-home-search-bar-keyword\")\n",
    "search_input.clear()\n",
    "search_input.send_keys(target_keyword)\n",
    "time.sleep(1)\n",
    "\n",
    "search_input.send_keys(Keys.RETURN)\n",
    "time.sleep(5)\n",
    "\n",
    "print(\"검색 완료. 현재 페이지 타이틀 :\", driver.title)\n",
    "driver.quit()"
   ]
  },
  {
   "cell_type": "code",
   "execution_count": 9,
   "id": "20218e41-99bf-4343-8cf3-868c33f05c1d",
   "metadata": {},
   "outputs": [
    {
     "name": "stdout",
     "output_type": "stream",
     "text": [
      "Requirement already satisfied: pandas in /opt/anaconda3/lib/python3.13/site-packages (2.2.3)\n",
      "Requirement already satisfied: numpy>=1.26.0 in /opt/anaconda3/lib/python3.13/site-packages (from pandas) (2.1.3)\n",
      "Requirement already satisfied: python-dateutil>=2.8.2 in /opt/anaconda3/lib/python3.13/site-packages (from pandas) (2.9.0.post0)\n",
      "Requirement already satisfied: pytz>=2020.1 in /opt/anaconda3/lib/python3.13/site-packages (from pandas) (2024.1)\n",
      "Requirement already satisfied: tzdata>=2022.7 in /opt/anaconda3/lib/python3.13/site-packages (from pandas) (2025.2)\n",
      "Requirement already satisfied: six>=1.5 in /opt/anaconda3/lib/python3.13/site-packages (from python-dateutil>=2.8.2->pandas) (1.17.0)\n",
      "Note: you may need to restart the kernel to use updated packages.\n"
     ]
    }
   ],
   "source": [
    "pip install pandas"
   ]
  },
  {
   "cell_type": "code",
   "execution_count": 14,
   "id": "0abfd051-42eb-433a-8699-5247649a4652",
   "metadata": {},
   "outputs": [
    {
     "name": "stdout",
     "output_type": "stream",
     "text": [
      "목표키워드 : 반팔\n",
      "검색 완료. 현재 페이지 타이틀 : 반팔 | 무신사 추천 상품\n"
     ]
    },
    {
     "data": {
      "text/html": [
       "<div>\n",
       "<style scoped>\n",
       "    .dataframe tbody tr th:only-of-type {\n",
       "        vertical-align: middle;\n",
       "    }\n",
       "\n",
       "    .dataframe tbody tr th {\n",
       "        vertical-align: top;\n",
       "    }\n",
       "\n",
       "    .dataframe thead th {\n",
       "        text-align: right;\n",
       "    }\n",
       "</style>\n",
       "<table border=\"1\" class=\"dataframe\">\n",
       "  <thead>\n",
       "    <tr style=\"text-align: right;\">\n",
       "      <th></th>\n",
       "      <th>상품명</th>\n",
       "      <th>URL</th>\n",
       "      <th>리뷰수</th>\n",
       "    </tr>\n",
       "  </thead>\n",
       "  <tbody>\n",
       "    <tr>\n",
       "      <th>0</th>\n",
       "      <td>W TWINKLE SELLER LOGO SS TEE WHITE(CV2EMFT517A)</td>\n",
       "      <td>https://www.musinsa.com/products/3052406</td>\n",
       "      <td>652</td>\n",
       "    </tr>\n",
       "    <tr>\n",
       "      <th>1</th>\n",
       "      <td>레터링 아카이브 티셔츠 [화이트]</td>\n",
       "      <td>https://www.musinsa.com/products/3820600</td>\n",
       "      <td>647</td>\n",
       "    </tr>\n",
       "    <tr>\n",
       "      <th>2</th>\n",
       "      <td>바이시클 오버사이즈 반팔 티셔츠 [그린]</td>\n",
       "      <td>https://www.musinsa.com/products/2534493</td>\n",
       "      <td>532</td>\n",
       "    </tr>\n",
       "    <tr>\n",
       "      <th>3</th>\n",
       "      <td>냥이가 지켜보고 있다 티셔츠 [화이트]</td>\n",
       "      <td>https://www.musinsa.com/products/3203072</td>\n",
       "      <td>502</td>\n",
       "    </tr>\n",
       "    <tr>\n",
       "      <th>4</th>\n",
       "      <td>트리플 나비 자수 오버핏 반팔 티셔츠 ( 챠콜 )</td>\n",
       "      <td>https://www.musinsa.com/products/3283586</td>\n",
       "      <td>500</td>\n",
       "    </tr>\n",
       "  </tbody>\n",
       "</table>\n",
       "</div>"
      ],
      "text/plain": [
       "                                               상품명  \\\n",
       "0  W TWINKLE SELLER LOGO SS TEE WHITE(CV2EMFT517A)   \n",
       "1                               레터링 아카이브 티셔츠 [화이트]   \n",
       "2                           바이시클 오버사이즈 반팔 티셔츠 [그린]   \n",
       "3                            냥이가 지켜보고 있다 티셔츠 [화이트]   \n",
       "4                      트리플 나비 자수 오버핏 반팔 티셔츠 ( 챠콜 )   \n",
       "\n",
       "                                        URL  리뷰수  \n",
       "0  https://www.musinsa.com/products/3052406  652  \n",
       "1  https://www.musinsa.com/products/3820600  647  \n",
       "2  https://www.musinsa.com/products/2534493  532  \n",
       "3  https://www.musinsa.com/products/3203072  502  \n",
       "4  https://www.musinsa.com/products/3283586  500  "
      ]
     },
     "execution_count": 14,
     "metadata": {},
     "output_type": "execute_result"
    }
   ],
   "source": [
    "from selenium import webdriver\n",
    "from selenium.webdriver.chrome.service import Service\n",
    "from selenium.webdriver.chrome.options import Options\n",
    "from selenium.webdriver.common.by import By\n",
    "from selenium.webdriver.common.keys import Keys\n",
    "from webdriver_manager.chrome import ChromeDriverManager\n",
    "import pandas as pd\n",
    "import time\n",
    "import re\n",
    "\n",
    "service = Service(ChromeDriverManager().install())\n",
    "options = Options()\n",
    "# options.add_argument('--headless')\n",
    "# options.add_argument('--disable-gpu')\n",
    "options.add_argument('--disable-dev-shm-usage')\n",
    "options.add_argument('--window-size=1920x1080')\n",
    "options.add_argument('--start-maximized')\n",
    "options.add_argument('--user-agent=Mozilla/5.0 (Macintosh; Intel Mac OS X 10_15_7) AppleWebKit/537.36 (KHTML, like Gecko) Chrome/139.0.0.0 Safari/537.36')\n",
    "options.add_argument('--lang=ko_KR')\n",
    "\n",
    "driver = webdriver.Chrome(service=service, options=options)\n",
    "\n",
    "driver.get(\"https://www.musinsa.com/main/musinsa/recommend?gf=A\")\n",
    "time.sleep(3)\n",
    "\n",
    "search_button = driver.find_element(By.CLASS_NAME, \"sc-dzagxs-2\")\n",
    "search_button.click()\n",
    "time.sleep(2)\n",
    "\n",
    "popular_keywords = driver.find_elements(By.CSS_SELECTOR, \".search-home-popular-wrap .sc-1xzm8bl-2\")\n",
    "target_keyword = popular_keywords[1].text\n",
    "print(\"목표키워드 :\", target_keyword)\n",
    "\n",
    "search_input = driver.find_element(By.CLASS_NAME, \"search-home-search-bar-keyword\")\n",
    "search_input.clear()\n",
    "search_input.send_keys(target_keyword)\n",
    "time.sleep(1)\n",
    "\n",
    "search_input.send_keys(Keys.RETURN)\n",
    "time.sleep(5)\n",
    "\n",
    "print(\"검색 완료. 현재 페이지 타이틀 :\", driver.title)\n",
    "\n",
    "scroll_pause = 2\n",
    "\n",
    "for _ in range(10) :\n",
    "    driver.execute_script(\"window.scrollTo(0, document.body.scrollHeight);\")\n",
    "    time.sleep(scroll_pause)\n",
    "\n",
    "products = driver.find_elements(By.CSS_SELECTOR, \"div.sc-d36st-1.elXjMR\")[:100]\n",
    "product_data = []\n",
    "\n",
    "for product in products :\n",
    "    try :\n",
    "        name = product.find_element(By.CSS_SELECTOR, \"div.sc-cMuefe.jIlLeV a.gtm-select-item span\").text.strip()\n",
    "        url = product.find_element(By.CSS_SELECTOR, \"div.sc-cMuefe.jIlLeV a.gtm-select-item\").get_attribute(\"href\")\n",
    "        review_info = product.find_elements(By.CSS_SELECTOR, \"span.text-etc_11px_reg.text-yellow.font-pretendard\")[1].text\n",
    "        review_count = int(re.sub(r\"[^\\d]\", \"\", review_info)) if review_info else 0\n",
    "        product_data.append({\"상품명\": name, \"URL\": url, \"리뷰수\": review_count})\n",
    "    except :\n",
    "        continue\n",
    "\n",
    "df = pd.DataFrame(product_data)\n",
    "df_top30 = df.sort_values(by=\"리뷰수\", ascending=False).head(30).reset_index(drop=True)\n",
    "\n",
    "driver.quit()\n",
    "df_top30.head()"
   ]
  },
  {
   "cell_type": "code",
   "execution_count": 11,
   "id": "c2923177-6834-49bd-a847-350bfe7d4d41",
   "metadata": {},
   "outputs": [
    {
     "name": "stdout",
     "output_type": "stream",
     "text": [
      "Requirement already satisfied: openpyxl in /opt/anaconda3/lib/python3.13/site-packages (3.1.5)\n",
      "Requirement already satisfied: et_xmlfile in /opt/anaconda3/lib/python3.13/site-packages (from openpyxl) (1.1.0)\n",
      "Note: you may need to restart the kernel to use updated packages.\n"
     ]
    }
   ],
   "source": [
    "pip install openpyxl"
   ]
  },
  {
   "cell_type": "code",
   "execution_count": 16,
   "id": "b1ef5490-a128-4fb6-a36f-607ed09212c0",
   "metadata": {},
   "outputs": [
    {
     "name": "stdout",
     "output_type": "stream",
     "text": [
      "1번째 상품리뷰 수집 중 : {'W TWINKLE SELLER LOGO SS TEE WHITE(CV2EMFT517A)'}\n",
      "리뷰 수집 실패 : Message: no such element: Unable to locate element: {\"method\":\"xpath\",\"selector\":\"//button[@data-button-id='prd_review_tab']\"}\n",
      "  (Session info: chrome=139.0.7258.128); For documentation on this error, please visit: https://www.selenium.dev/documentation/webdriver/troubleshooting/errors#nosuchelementexception\n",
      "Stacktrace:\n",
      "0   chromedriver                        0x000000010347b26c cxxbridge1$str$ptr + 2741972\n",
      "1   chromedriver                        0x00000001034731dc cxxbridge1$str$ptr + 2709060\n",
      "2   chromedriver                        0x0000000102fbd4fc cxxbridge1$string$len + 90520\n",
      "3   chromedriver                        0x0000000103004a14 cxxbridge1$string$len + 382640\n",
      "4   chromedriver                        0x0000000103045db8 cxxbridge1$string$len + 649812\n",
      "5   chromedriver                        0x0000000102ff8d30 cxxbridge1$string$len + 334284\n",
      "6   chromedriver                        0x000000010343e66c cxxbridge1$str$ptr + 2493140\n",
      "7   chromedriver                        0x00000001034418a0 cxxbridge1$str$ptr + 2505992\n",
      "8   chromedriver                        0x000000010341f4a4 cxxbridge1$str$ptr + 2365708\n",
      "9   chromedriver                        0x000000010344215c cxxbridge1$str$ptr + 2508228\n",
      "10  chromedriver                        0x000000010341059c cxxbridge1$str$ptr + 2304516\n",
      "11  chromedriver                        0x0000000103461c78 cxxbridge1$str$ptr + 2638048\n",
      "12  chromedriver                        0x0000000103461e04 cxxbridge1$str$ptr + 2638444\n",
      "13  chromedriver                        0x0000000103472e28 cxxbridge1$str$ptr + 2708112\n",
      "14  libsystem_pthread.dylib             0x000000018422bc0c _pthread_start + 136\n",
      "15  libsystem_pthread.dylib             0x0000000184226b80 thread_start + 8\n",
      "\n",
      "2번째 상품리뷰 수집 중 : {'레터링 아카이브 티셔츠 [화이트]'}\n",
      "3번째 상품리뷰 수집 중 : {'바이시클 오버사이즈 반팔 티셔츠 [그린]'}\n",
      "4번째 상품리뷰 수집 중 : {'냥이가 지켜보고 있다 티셔츠 [화이트]'}\n",
      "5번째 상품리뷰 수집 중 : {'트리플 나비 자수 오버핏 반팔 티셔츠 ( 챠콜 )'}\n",
      "6번째 상품리뷰 수집 중 : {'어웨이 엘티엠 라운드 오버 티셔츠_차콜'}\n",
      "7번째 상품리뷰 수집 중 : {'HIDE AWAY T-SHIRT in D/Grey VW2ME124-13'}\n",
      "8번째 상품리뷰 수집 중 : {'MOT SERIES TEE(RIDE THE COAST)_OFF WHITE'}\n",
      "9번째 상품리뷰 수집 중 : {'15MIN 쿼터 팀플레이 그래픽 로고 반팔티 화이트 블루'}\n",
      "10번째 상품리뷰 수집 중 : {'EL 데이지 ver2 반팔티셔츠 4Color'}\n",
      "11번째 상품리뷰 수집 중 : {'[2PACK]썸머 바캉스 티셔츠 패키지'}\n",
      "12번째 상품리뷰 수집 중 : {'ARCH CHARMING CAT 우먼 슬림핏 반팔(SWSSTD-0040)'}\n",
      "13번째 상품리뷰 수집 중 : {'BN Heart Jersey T-shirt [Light Yellow]'}\n",
      "14번째 상품리뷰 수집 중 : {'세일링 플래그 티셔츠'}\n",
      "15번째 상품리뷰 수집 중 : {'우먼즈 B.LIFE 오버핏 반팔티'}\n",
      "16번째 상품리뷰 수집 중 : {'패널 반팔티 (화이트)'}\n",
      "17번째 상품리뷰 수집 중 : {'Renee Square Neck Slim T-Shirt - 5COL'}\n",
      "18번째 상품리뷰 수집 중 : {'ANC COLORING LOGO TEE_BLUE'}\n",
      "19번째 상품리뷰 수집 중 : {'Star Lost T-Shirt Grey'}\n",
      "20번째 상품리뷰 수집 중 : {'[반팔ver]나그랑뒷반팔티셔츠(PBE03S-WHTW004)'}\n",
      "21번째 상품리뷰 수집 중 : {'씬 스트라이프 롤 업 포켓 헨리넥 반팔 티셔츠_블랙'}\n",
      "22번째 상품리뷰 수집 중 : {'쌀 Ssal, 한글 티셔츠'}\n",
      "23번째 상품리뷰 수집 중 : {'DOT BUTTON T-SHIRT, WHITE'}\n",
      "24번째 상품리뷰 수집 중 : {'FRANKIE FC JERSEY TSHIRT PINK'}\n",
      "25번째 상품리뷰 수집 중 : {'여성) 크링클 크루넥 반팔티_MSE2TS2051'}\n",
      "26번째 상품리뷰 수집 중 : {'NY FLAG V-NECK KNIT IVORY'}\n",
      "27번째 상품리뷰 수집 중 : {'레더 포인트 시그니처 반팔 티'}\n",
      "28번째 상품리뷰 수집 중 : {'리본 셔링 오프숄더 티셔츠 백멜란지'}\n",
      "29번째 상품리뷰 수집 중 : {'Ribbon Shirring T-shirt (melange)'}\n",
      "30번째 상품리뷰 수집 중 : {'[SET] 올드스쿨 시리즈 오버핏 반팔티셔츠'}\n",
      "✅ 엑셀파일 저장완료 : musinsa_top30_reviews.xlsx\n"
     ]
    }
   ],
   "source": [
    "from openpyxl import Workbook\n",
    "\n",
    "driver = webdriver.Chrome(service=service, options=options)\n",
    "all_reviews = []\n",
    "\n",
    "for idx, row in df_top30.iterrows() :\n",
    "    print(f\"{idx + 1}번째 상품리뷰 수집 중 :\", {row[\"상품명\"]})\n",
    "    driver.get(row[\"URL\"])\n",
    "    time.sleep(2)\n",
    "\n",
    "    try :\n",
    "        review_tab = driver.find_element(By.XPATH, \"//button[@data-button-id='prd_review_tab']\")\n",
    "        review_tab.click()\n",
    "        time.sleep(2)\n",
    "\n",
    "        for _ in range(3) :\n",
    "            driver.execute_script(\"window.scrollTo(0, document.body.scrollHeight);\")\n",
    "            time.sleep(1.5)\n",
    "        review_elements = driver.find_elements(By.CSS_SELECTOR, \".text-body_13px_reg.text-black.font-pretendard\")\n",
    "        for review in review_elements[:10] :\n",
    "            text = review.text.strip()\n",
    "            if text :\n",
    "                all_reviews.append({\n",
    "                    \"상품명\": row[\"상품명\"],\n",
    "                    \"리뷰\": text\n",
    "                })\n",
    "    except Exception as e :\n",
    "        print(\"리뷰 수집 실패 :\", e)\n",
    "        continue\n",
    "        \n",
    "driver.quit()\n",
    "\n",
    "wb = Workbook()\n",
    "ws = wb.active\n",
    "ws.title = \"무신사 리뷰\"\n",
    "\n",
    "ws.append([\"상품명\", \"리뷰\"])\n",
    "\n",
    "for r in all_reviews :\n",
    "    ws.append([r[\"상품명\"], r[\"리뷰\"]])\n",
    "\n",
    "wb.save(\"musinsa_top30_reviews.xlsx\")\n",
    "print(\"✅ 엑셀파일 저장완료 : musinsa_top30_reviews.xlsx\")"
   ]
  },
  {
   "cell_type": "code",
   "execution_count": 17,
   "id": "0d8c58fb-ddf6-4735-aef4-03d30baf1325",
   "metadata": {},
   "outputs": [
    {
     "name": "stdout",
     "output_type": "stream",
     "text": [
      "Requirement already satisfied: pymysql in /opt/anaconda3/lib/python3.13/site-packages (1.1.1)\n",
      "Note: you may need to restart the kernel to use updated packages.\n"
     ]
    }
   ],
   "source": [
    "pip install pymysql"
   ]
  },
  {
   "cell_type": "code",
   "execution_count": 18,
   "id": "71b2ad62-0368-4d9a-ae47-68a63fa760bd",
   "metadata": {},
   "outputs": [
    {
     "name": "stdout",
     "output_type": "stream",
     "text": [
      "Requirement already satisfied: sqlalchemy in /opt/anaconda3/lib/python3.13/site-packages (2.0.39)\n",
      "Requirement already satisfied: typing-extensions>=4.6.0 in /opt/anaconda3/lib/python3.13/site-packages (from sqlalchemy) (4.14.0)\n",
      "Note: you may need to restart the kernel to use updated packages.\n"
     ]
    }
   ],
   "source": [
    "pip install sqlalchemy"
   ]
  },
  {
   "cell_type": "code",
   "execution_count": 19,
   "id": "fda14054-c4e6-46eb-a88c-580e27c3722e",
   "metadata": {},
   "outputs": [
    {
     "name": "stdout",
     "output_type": "stream",
     "text": [
      "✅ 데이터가 MySQL musinsa_db_v5의 테이블 reviews에 성공적으로 저장되었습니다.\n"
     ]
    }
   ],
   "source": [
    "import pymysql\n",
    "import pandas as pd\n",
    "from sqlalchemy import create_engine\n",
    "\n",
    "EXCEL_PATH = \"musinsa_top30_reviews.xlsx\"\n",
    "DB_NAME = \"musinsa_db_v5\"\n",
    "TABLE_NAME = \"reviews\"\n",
    "USER = \"root\"\n",
    "PASSWORD = \"\"\n",
    "HOST = \"127.0.0.1\"\n",
    "PORT = 3306\n",
    "\n",
    "df = pd.read_excel(EXCEL_PATH)\n",
    "conn = pymysql.connect(host=HOST, user=USER, password=PASSWORD, port=PORT)\n",
    "cursor = conn.cursor()\n",
    "cursor.execute(\n",
    "    f\"CREATE DATABASE IF NOT EXISTS {DB_NAME} CHARACTER SET utf8mb4 COLLATE utf8mb4_unicode_ci;\"\n",
    ")\n",
    "conn.close()\n",
    "\n",
    "engine_str = f\"mysql+pymysql://{USER}:{PASSWORD}@{HOST}:{PORT}/{DB_NAME}?charset=utf8mb4\"\n",
    "engine = create_engine(engine_str)\n",
    "\n",
    "df.to_sql(name=TABLE_NAME, con=engine, if_exists=\"replace\", index=False)\n",
    "print(f\"✅ 데이터가 MySQL {DB_NAME}의 테이블 {TABLE_NAME}에 성공적으로 저장되었습니다.\")"
   ]
  },
  {
   "cell_type": "code",
   "execution_count": null,
   "id": "faffbedd-98e9-49b5-b0ff-f4c1974bb2bf",
   "metadata": {},
   "outputs": [],
   "source": []
  },
  {
   "cell_type": "code",
   "execution_count": null,
   "id": "e5fb4764-b01a-4fe7-a0e4-2247cd835835",
   "metadata": {},
   "outputs": [],
   "source": []
  },
  {
   "cell_type": "code",
   "execution_count": null,
   "id": "23aacea7-3194-47cf-afd7-e146b53fe1d1",
   "metadata": {},
   "outputs": [],
   "source": []
  },
  {
   "cell_type": "code",
   "execution_count": null,
   "id": "88d2638e-f41f-4e08-b8f4-129f1cb82181",
   "metadata": {},
   "outputs": [],
   "source": []
  },
  {
   "cell_type": "code",
   "execution_count": null,
   "id": "9042b25e-bb9f-4315-b3c7-17474fbdc754",
   "metadata": {},
   "outputs": [],
   "source": []
  },
  {
   "cell_type": "code",
   "execution_count": null,
   "id": "574cb10a-e3bb-44a8-bc20-857d828226c5",
   "metadata": {},
   "outputs": [],
   "source": []
  },
  {
   "cell_type": "code",
   "execution_count": null,
   "id": "b1acbd93-f0d2-4bfa-984a-c0334a5983dd",
   "metadata": {},
   "outputs": [],
   "source": []
  },
  {
   "cell_type": "code",
   "execution_count": null,
   "id": "281a3b9a-ae37-4efa-a75a-cc72e704ab05",
   "metadata": {},
   "outputs": [],
   "source": []
  },
  {
   "cell_type": "code",
   "execution_count": null,
   "id": "ad179ed6-8744-4b0b-8c27-b202180bc439",
   "metadata": {},
   "outputs": [],
   "source": []
  },
  {
   "cell_type": "code",
   "execution_count": null,
   "id": "1a330282-75f0-487a-92a0-3a231106889e",
   "metadata": {},
   "outputs": [],
   "source": []
  },
  {
   "cell_type": "code",
   "execution_count": null,
   "id": "1b640acd-ff9a-4b15-a596-257cf2ac2add",
   "metadata": {},
   "outputs": [],
   "source": []
  },
  {
   "cell_type": "code",
   "execution_count": null,
   "id": "eb71e8f0-ef0d-4028-b099-8c0ef4623a83",
   "metadata": {},
   "outputs": [],
   "source": []
  }
 ],
 "metadata": {
  "kernelspec": {
   "display_name": "Python [conda env:base] *",
   "language": "python",
   "name": "conda-base-py"
  },
  "language_info": {
   "codemirror_mode": {
    "name": "ipython",
    "version": 3
   },
   "file_extension": ".py",
   "mimetype": "text/x-python",
   "name": "python",
   "nbconvert_exporter": "python",
   "pygments_lexer": "ipython3",
   "version": "3.13.5"
  }
 },
 "nbformat": 4,
 "nbformat_minor": 5
}
