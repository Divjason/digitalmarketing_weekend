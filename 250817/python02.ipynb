{
 "cells": [
  {
   "cell_type": "markdown",
   "id": "62571112-1d0a-40d0-8081-1654903937ba",
   "metadata": {},
   "source": [
    "### 데이터 저장.보관을 위한 기본 개념정의\n",
    "1. 데이터 (Data)\n",
    "2. 데이터베이스 (Database)\n",
    "3. 스키마 (Schema)\n",
    "4. 테이블 (Table)\n",
    "5. SQL (Structured Query Language)"
   ]
  },
  {
   "cell_type": "markdown",
   "id": "d159ae17-7264-47f8-b1f4-2b268ad53aa0",
   "metadata": {},
   "source": [
    "### 1. 데이터 (Data)\n",
    "- 수집 가능한 값, 사실, 기록물 등의 \"원초적인 정보\"\n",
    "- 숫자 : 23, 5.9\n",
    "- 문자 : \"nike\", \"musinsa\"\n",
    "- 상태 : True, False\n",
    "- 데이터 그 자체로는 의미가 부족 -> 구조화가 되어있어야 데이터는 비로소 가치를 부여받게 됨"
   ]
  },
  {
   "cell_type": "markdown",
   "id": "57e7046b-aa8f-4546-a9c4-c4cdc9edba53",
   "metadata": {},
   "source": [
    "### 2. 데이터베이스 (Database = DB)\n",
    "- 여러가지 다양한 데이터를 구조적이고 체계적으로 저장 미 관리할 수 있도록 해주는 저장소\n",
    "- 종류\n",
    "  - 관계형 데이터베이스 (RDBMS) -> MySQL, Oracle\n",
    "  - 비관계형 데이터베이스 (DBMS) -> MongoDB\n",
    "- 온.오프라인 가게를 운영하는데 일일 고객 주문정보, 특정 기간동안 사용한 재고 수량 등"
   ]
  },
  {
   "cell_type": "markdown",
   "id": "0312fe66-a70c-45ee-a145-50dda79ca10a",
   "metadata": {},
   "source": [
    "### 3. 스키마 (Schema)\n",
    "- 데이터베이스 안에 있는 정보를 어떻게 구조화할 것인가를 정의한 것\n",
    "- 데이터베이스를 어떻게 구조화할 것인지를 정의해놓은 일종의 설계도"
   ]
  },
  {
   "cell_type": "markdown",
   "id": "24931a2c-9ab7-47f8-b661-1046963df159",
   "metadata": {},
   "source": [
    "### 4. 테이블 (Table)\n",
    "- 관계형 데이터베이스 안에 저장된 실제 데이터의 저장 단위\n",
    "- 구성요소\n",
    "  - 행 (Row) => 레코드 (*한 명의 고객) \n",
    "  - 열 (Column) => 속성 (*해당 고객의 이름, 나이, 성별, 이메일 등)"
   ]
  },
  {
   "cell_type": "markdown",
   "id": "58e329da-a63b-4d36-a2b8-9e8ab095cd54",
   "metadata": {},
   "source": [
    "### 5. SQL (Structured Query Language)\n",
    "- 관계형 데이터베이스 안에 있는 데이터를 정의, 조작, 제어할 수 있도록 도와주는 표준 언어\n",
    "- 종류\n",
    "  - DDL (Data Definition Language)\n",
    "  - DML (Date Manipulation Language)\n",
    "  - DCL (Data Control Language)"
   ]
  },
  {
   "cell_type": "code",
   "execution_count": null,
   "id": "9e9f74db-d4f1-49bb-a854-4ff5edae96fe",
   "metadata": {},
   "outputs": [],
   "source": []
  },
  {
   "cell_type": "code",
   "execution_count": null,
   "id": "c18ebbf7-23eb-41bf-a68b-3a6336f0d931",
   "metadata": {},
   "outputs": [],
   "source": []
  },
  {
   "cell_type": "code",
   "execution_count": null,
   "id": "6ac90acb-4f40-493d-86f6-dc249b93fab8",
   "metadata": {},
   "outputs": [],
   "source": []
  },
  {
   "cell_type": "code",
   "execution_count": null,
   "id": "c6394497-9386-4d73-a88e-8b859ca9a60c",
   "metadata": {},
   "outputs": [],
   "source": []
  }
 ],
 "metadata": {
  "kernelspec": {
   "display_name": "Python [conda env:base] *",
   "language": "python",
   "name": "conda-base-py"
  },
  "language_info": {
   "codemirror_mode": {
    "name": "ipython",
    "version": 3
   },
   "file_extension": ".py",
   "mimetype": "text/x-python",
   "name": "python",
   "nbconvert_exporter": "python",
   "pygments_lexer": "ipython3",
   "version": "3.13.5"
  }
 },
 "nbformat": 4,
 "nbformat_minor": 5
}
