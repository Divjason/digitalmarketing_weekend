{
 "cells": [
  {
   "cell_type": "code",
   "execution_count": 10,
   "id": "df42acd4-7ca9-43a5-965c-ccbcdb2eed89",
   "metadata": {},
   "outputs": [
    {
     "name": "stdout",
     "output_type": "stream",
     "text": [
      "✅ 엑셀파일 저장완료 : shopping_with_올리브영.xlsx\n"
     ]
    }
   ],
   "source": [
    "import requests\n",
    "from openpyxl import Workbook\n",
    "\n",
    "client_id = \"\"\n",
    "client_secret = \"\"\n",
    "\n",
    "start, num = 1, 0\n",
    "\n",
    "excel_file = Workbook()\n",
    "excel_sheet = excel_file.active\n",
    "excel_sheet.column_dimensions[\"B\"].width = 100\n",
    "excel_sheet.column_dimensions[\"C\"].width = 100\n",
    "excel_sheet.append([\"랭킹\", \"상품명\", \"링크\"])\n",
    "\n",
    "for index in range(10) :\n",
    "    start_number = start + (index * 100)\n",
    "    naver_open_api = f\"https://openapi.naver.com/v1/search/shop.json?query=올리브영&display=100&start={str(start_number)}\"\n",
    "    header_params = {\"X-Naver-Client-Id\": client_id, \"X-Naver-Client-Secret\": client_secret}\n",
    "    res = requests.get(naver_open_api, headers=header_params)\n",
    "\n",
    "    if res.status_code == 200 :\n",
    "        data = res.json()\n",
    "        for item in data[\"items\"] :\n",
    "            num += 1\n",
    "            excel_sheet.append([num, item[\"title\"], item[\"link\"]])\n",
    "    else :\n",
    "        print(\"Error Code :\", res.status_code)\n",
    "\n",
    "excel_file.save(\"shopping_with_올리브영.xlsx\")\n",
    "excel_file.close()\n",
    "\n",
    "print(\"✅ 엑셀파일 저장완료 : shopping_with_올리브영.xlsx\")"
   ]
  }
 ],
 "metadata": {
  "kernelspec": {
   "display_name": "Python [conda env:base] *",
   "language": "python",
   "name": "conda-base-py"
  },
  "language_info": {
   "codemirror_mode": {
    "name": "ipython",
    "version": 3
   },
   "file_extension": ".py",
   "mimetype": "text/x-python",
   "name": "python",
   "nbconvert_exporter": "python",
   "pygments_lexer": "ipython3",
   "version": "3.13.5"
  }
 },
 "nbformat": 4,
 "nbformat_minor": 5
}
