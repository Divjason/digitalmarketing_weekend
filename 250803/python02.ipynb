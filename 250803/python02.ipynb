{
 "cells": [
  {
   "cell_type": "markdown",
   "id": "5dc94e45-1646-4dd1-9d0c-b53b09001041",
   "metadata": {},
   "source": [
    "## 파이썬 자료형\n",
    "\n",
    "1) 숫자형\n",
    "2) 문자열\n",
    "3) 논리형\n",
    "4) 리스트"
   ]
  },
  {
   "cell_type": "code",
   "execution_count": null,
   "id": "47245dd8-71c1-4851-a8b3-f31b945624c5",
   "metadata": {},
   "outputs": [],
   "source": [
    "# 리스트 => 연관성을 가지고 있는 데이터를 하나의 그룹으로 정의할 수 있게 해주는 자료형(태)\n",
    "# 대부분의 크롤링한 결과값은 리스트 형태로 들어옴!!!\n",
    "# 리스트 라는 자료형태는 왜 탄생했을까?\n",
    "# 단순반복적인 변수 선언 및 값 할당해야하는 비효율적인 부분을 개선하고자 리스트\n",
    "# 1) 리스트는 반드시 좌측부터 인덱스값을 0부터 할당 // 반대로 우측부터는 인덱스 값을 -1부터 할당\n",
    "# 2) 리스트 자료형 내 특정 인덱스 값을 찾아오고자 할 때에는 \"리스트명[인덱스번호]\"\n",
    "# 3 - 1) 리스트 내 값을 추가하고자 할 때, 가장 기본적으로 사용하는 함수 -> append() : 리스트 내 끝에서부터 값이 추가\n",
    "# 3 - 2) 리스트 자료형에서 값을 추가할 때, append(\"인천시\", \"안산시\") : append() -> 한 번에 하나씩만 값을 추가!!!\n",
    "# 3 - 3) 뒤에서부터 한 번에 여러개의 값을 동시에 추가하고자 할 때, extend() -> 단, 인자값을 리스트 형태로 제공!!!\n",
    "# 3 - 4) 리스트 자료형 추가 시, append() -> 리스트형태로 하나를 제공? \n",
    "# 4) 리스트 내 값을 추가할 때, 앞에서부터 값을 넣고 싶다면 -> *직접 리스트 하나 생성 + 기존 리스트 // *인덱스 값을 활용\n",
    "# 리스트 역시 문자열처럼 슬라이싱 기능 => 잘라내기 가능하다!!!\n",
    "# 5 - 1)리스트 내 값을 제거하고자 할 때 => remove(삭제하고싶은 값)\n",
    "# 5 - 2)리스트 내 값을 제거하고자 할 때 => del -> 인덱스 값으로 찾아서 제거"
   ]
  },
  {
   "cell_type": "code",
   "execution_count": 23,
   "id": "3d6b2138-d8a6-4296-8c39-9adc4dc0d857",
   "metadata": {},
   "outputs": [
    {
     "name": "stdout",
     "output_type": "stream",
     "text": [
      "['백령도', '천안시', '서울시', '경기도', '부산시', '강원도', '대구시', '인천시', '안산시']\n"
     ]
    }
   ],
   "source": [
    "city = [\"서울시\", \"경기도\", \"부산시\", \"강원도\"]\n",
    "city.append(\"대구시\")\n",
    "\n",
    "city = [\"천안시\"] + city\n",
    "city.insert(0, \"백령도\")\n",
    "\n",
    "city.extend([\"인천시\", \"안산시\"])\n",
    "city.append([\"해남\", \"울산시\"])\n",
    "# city.remove(['해남', '울산시'])\n",
    "del city[-1]\n",
    "\n",
    "# print(city2)\n",
    "print(city)\n",
    "# print(city[-1])\n",
    "\n",
    "# print(city[2:5])\n",
    "\n"
   ]
  },
  {
   "cell_type": "code",
   "execution_count": 28,
   "id": "d7eb80ba-bb61-4d15-8db1-ff497b0c0de3",
   "metadata": {},
   "outputs": [
    {
     "name": "stdout",
     "output_type": "stream",
     "text": [
      "[]\n",
      "['짱구', '짱구엄마', '짱구아빠']\n",
      "['짱구', '짱구삼촌', '짱구아빠']\n",
      "3\n"
     ]
    }
   ],
   "source": [
    "list_newdata = list()\n",
    "print(list_newdata)\n",
    "\n",
    "list_newdata.append(\"짱구\")\n",
    "list_newdata.extend([\"짱구엄마\", \"짱구아빠\"])\n",
    "\n",
    "print(list_newdata)\n",
    "\n",
    "# 대괄호 표기법\n",
    "list_newdata[1] = \"짱구삼촌\"\n",
    "print(list_newdata)\n",
    "print(len(list_newdata))"
   ]
  },
  {
   "cell_type": "markdown",
   "id": "5ba3a78b-f862-4ea5-88c5-8da376b5614d",
   "metadata": {},
   "source": [
    "# 실전 크롤링 연습\n",
    "## 실전 크롤링 연습\n",
    "### 실전 크롤링 연습\n",
    "#### 실전 크롤링 연습\n",
    "##### 실전 크롤링 연습\n",
    "###### 실전 크롤링 연습"
   ]
  },
  {
   "cell_type": "markdown",
   "id": "73f3b125-a846-4064-b408-bdf08e99053d",
   "metadata": {},
   "source": [
    "#### 네이버 포털사이트 > 뉴스 검색 사이트 > \"올리브영\" 키워드 검색 시, 검색되는 뉴스 제목 10개 크롤링 하기!"
   ]
  },
  {
   "cell_type": "code",
   "execution_count": null,
   "id": "7009fa8e-6a86-42e3-9141-cdc1c678861d",
   "metadata": {},
   "outputs": [],
   "source": [
    "# Pseudo Code : 수도코드\n",
    "# 처음부터 코드를 막 쳐서 결과물을 도출 하는 x\n",
    "\n",
    "# 1. 일단 크롤링해야하는 사이트 주소를 먼저 알아야할 것 같아요\n",
    "# 2. 해당 사이트로 도착했다면 검색하고자 하는 키워드를 정해야할 것 같아요 (*올리브영)\n",
    "# 3. 올리브영으로 검색했을 때, 기사가 굉장히 많이 나올 텐데, 그중에서 10개만 찾고 싶어요\n",
    "# 4. 10개의 기사를 찾았다면 주피터 노트북으로 가져오고 싶어요\n",
    "# 5. 주피터 노트북으로 10개의 기사를 가져왔다면, 해당 기사 중에서 제목만 출력하고 싶어요"
   ]
  },
  {
   "cell_type": "code",
   "execution_count": 31,
   "id": "685ee6c6-9cc0-4ae9-a173-98932650b50a",
   "metadata": {},
   "outputs": [
    {
     "name": "stdout",
     "output_type": "stream",
     "text": [
      "Requirement already satisfied: beautifulsoup4 in /opt/anaconda3/lib/python3.13/site-packages (4.12.3)\n",
      "Requirement already satisfied: soupsieve>1.2 in /opt/anaconda3/lib/python3.13/site-packages (from beautifulsoup4) (2.5)\n",
      "Note: you may need to restart the kernel to use updated packages.\n"
     ]
    }
   ],
   "source": [
    "pip install beautifulsoup4"
   ]
  },
  {
   "cell_type": "code",
   "execution_count": 36,
   "id": "f940823c-f0c9-4944-aa81-fe5ea88777e8",
   "metadata": {},
   "outputs": [
    {
     "name": "stdout",
     "output_type": "stream",
     "text": [
      "1. [K뷰티, 불황을 넘다] ②입소문 타고 북미접수…블루오션도 개척\n",
      "2. 모레모, 미피 캐릭터와 협업… 올리브영 단독 론칭\n",
      "3. 올리브영, 기능성 헤어케어 브랜드 '루테카' 출시\n",
      "4. LG생활건강 '유시몰 X 헌터' 에디션 올리브영 출시\n",
      "5. 모레모, '미피' 캐릭터와 콜라보…\"올리브영 단독 론칭\"\n",
      "6. K-팝 아이브 이서, 올리브영 K-뷰티 ‘더샘’ 모델 발탁\n",
      "7. 올리브영 매대 싹쓸이?… 민생소비쿠폰 효과 나왔다\n",
      "8. CJ올리브영, 2분기 실적 긍정 전망…1분기·지난해 실적 호조 이어간다\n",
      "9. ‘토리든X가나디’ 콜라보 올리브영 한정기획 출시\n",
      "10. 달롭, 올리브영 온라인몰 입점\n"
     ]
    }
   ],
   "source": [
    "import requests\n",
    "from bs4 import BeautifulSoup\n",
    "\n",
    "headers = {\"--user-agent\":\"Mozilla/5.0 (Macintosh; Intel Mac OS X 10_15_7) AppleWebKit/537.36 (KHTML, like Gecko) Chrome/138.0.0.0 Safari/537.36\"}\n",
    "\n",
    "query = \"올리브영\"\n",
    "url = f\"https://search.naver.com/search.naver?where=news&ie=utf8&sm=nws_hty&query={query}\"\n",
    "\n",
    "response = requests.get(url, headers=headers)\n",
    "soup = BeautifulSoup(response.text, \"html.parser\")\n",
    "\n",
    "titles = soup.select(\"a.CZ2lJrtx8_tIIyyaEDkQ.IQnq6B4xVFZbhCOvK9Fy\")\n",
    "\n",
    "for i, title in enumerate(titles[:10], 1) :\n",
    "    print(f\"{i}. {title.text.strip()}\")"
   ]
  },
  {
   "cell_type": "code",
   "execution_count": 44,
   "id": "94332493-7b69-4303-bef7-e1d2e3a266b8",
   "metadata": {},
   "outputs": [
    {
     "name": "stdout",
     "output_type": "stream",
     "text": [
      "✅ 인터파크 인기 콘서트 목록 (제목 + 일정)\n",
      "1. HOSHI X WOOZI FAN CONCERT ［WARNING］ - SEOUL [2025.07.11 - 2025.08.24]\n",
      "2. 2025 AKMU STANDING CONCERT ［악동들］ [2025.08.08 - 2025.08.24]\n",
      "3. 2025 현역가왕2 전국투어 [2025.04.18 ~]\n",
      "4. 2025 실리카겔 단독공연 〈Syn. THE. Size X〉 [2025.08.30 - 2025.08.31]\n",
      "5. 2025 TEEN TOP WE GONNA ROCK IT DROP IT TOP IT HEY DON＇T STOP IT POP IT X 2 LIVE [2025.08.23 - 2025.08.24]\n",
      "6. 경기인디뮤직페스티벌 2025 - 화성 [2025.09.20 - 2025.09.21]\n",
      "7. ONE UNIVERSE FESTIVAL 2025 프리세일 티켓 [2025.08.15 - 2025.08.16]\n",
      "8. 〈미스터트롯3〉 전국투어 콘서트 [2025.03.29 -]\n",
      "9. 2025 이상이 팬미팅 〈이상입니다〉 [2025.08.09]\n",
      "10. 허용별 콘서트 : 보컬 전쟁 시즌2 [2025.05.10 ~]\n",
      "11. 2025 데미소다 콘서트, DEMI-CON! [2025.08.16]\n",
      "12. Jayci yucca 단독 공연 The Last Boy In The Class 3 [2025.08.16]\n",
      "13. 더 로즈(The Rose) Once Upon A WRLD Tour in Seoul [2025.08.30]\n",
      "14. 2025 Asia Top Artist Festival [2025.09.27 - 2025.09.28]\n",
      "15. 2025 RESCENE 1st FAN-CON［Project 326］ [2025.08.09]\n",
      "16. 2025 유선호 팬미팅 〈선호하는 하루〉 [2025.08.17]\n",
      "17. 2025 10CM 단독공연 〈5.0〉 [2025.08.09 - 2025.08.10]\n",
      "18. 2025 YOON SAN-HA FANCON［PRISM : from Y to A］in Seoul [2025.08.01 - 2025.08.02]\n",
      "19. 2025 유채훈 크로스오버 콘서트〈IL MONDO〉 [2025.09.06 - 2025.09.07]\n",
      "20. 민트페스타 vol.78 SPIRITED [2025.08.24]\n",
      "21. 박창근 장르 with Mr.아보카도 - 광주 [2025.09.19 - 2025.09.20]\n",
      "22. 예지(YAEJI) 내한공연 [2025.08.25]\n",
      "23. 7 ROCK PRIME 2025 [2025.08.15 - 2025.08.16]\n",
      "24. 들국화, 전인권 40주년 콘서트 [2025.09.20 - 2025.09.21]\n",
      "25. 뮤 내한공연 (MEW The Farewell Shows) [2025.11.26]\n",
      "26. 터치드(TOUCHED) 단독 콘서트 ＇ATTRACTION＇ [2025.08.23 - 2025.08.24]\n",
      "27. 소란 여름 클럽투어 ‘BUCKETLIST’ [2025.07.04 - 2025.08.10]\n",
      "28. 오아시스 내한공연 [2025.10.21]\n",
      "29. 제이크 밀러 첫 단독 내한공연 JAKE MILLER BALANCE TOUR 2025 [2025.09.27]\n",
      "30. 2025 FTISLAND LIVE ‘MAD HAPPY’ [2025.08.23 - 2025.08.24]\n",
      "31. PARK BO GUM 2025 FAN MEETING TOUR ［BE WITH YOU］ IN SEOUL [2025.08.01 - 2025.08.02]\n",
      "32. CHRISTIAN KURIA LIVE IN SEOUL [2025.11.02]\n",
      "33. Jacky Cheung 60＋ Concert Tour Seoul [2025.09.13]\n",
      "34. 2025 PLAVE Asia Tour ［DASH: Quantum Leap］ in Seoul [2025.08.15 - 2025.08.17]\n",
      "35. 서울숲재즈페스티벌 2025 [2025.09.19 - 2025.09.21]\n",
      "36. 핫 밀크 첫 내한공연 Hot Milk Loud ＆ Fast Tour Live in Seoul [2025.08.13]\n",
      "37. 2025 손태진 단독 팬미팅 〈You Are My SonShine〉 [2025.08.02 - 2025.08.03]\n",
      "38. 티나셰 내한공연 [2025.08.26]\n",
      "39. 2025 CassCool Festival [2025.08.23]\n",
      "40. Gen Hoshino presents MAD HOPE Asia Tour in SEOUL [2025.09.13 - 2025.09.14]\n",
      "41. Flight: 원위 (ONEWE) 편 [2025.08.09 - 2025.08.31]\n",
      "42. Minami Earthtication2025 in Seoul [2025.09.12]\n",
      "43. bbno$(베이비 노 머니) 첫 내한공연 [2025.11.16]\n",
      "44. 2025 정세운 소극장 콘서트 〈Bittersweet〉 ENCORE [2025.08.02]\n",
      "45. MARCIN(마르친) 내한공연 - ART OF GUITAR TOUR [2025.12.09]\n",
      "46. 너드커넥션 SUMMER LIVE, PULSE [2025.08.15]\n",
      "47. 블랙스타 -Theater Starless- BLACK PARTY 도쿄 [2025.08.16 - 2025.08.17]\n",
      "48. 〈2025 G2A〉 in KINTEX [2025.10.03]\n",
      "49. 메가필드뮤직페스티벌 2025 [2025.08.30 - 2025.08.31]\n",
      "50. 7 ROCK PRIME 2025 [2025.08.15 - 2025.08.16]\n",
      "51. 2025 인천펜타포트 락 페스티벌 [2025.08.01 - 2025.08.03]\n",
      "52. 2025 양세형＆양세찬 〈양세브로쇼〉 [2025.08.09 - 2025.08.10]\n",
      "53. 2025 카즈미 타테이시 트리오 내한공연-지브리, 재즈를 만나다- 고양 [2025.11.22~12.25]\n",
      "54. 2025 CLICK THE STAR K-POP MUSIC FESTIVAL [2025.08.30]\n",
      "55. 이승환 35주년 콘서트 〈HEAVEN〉 [2025.08.02 - 2025.09.06]\n",
      "56. LOVE CHIPS FESTIVAL 2025 [2025.09.06 - 2025.09.07]\n",
      "57. 2025 이승철 콘서트 〈오케스트락2〉 [2025.08.02 - 2025.09.14]\n",
      "58. 2025 타일러, 더 크리에이터(Tyler, The Creator)내한공연 [2025.09.13 ~ 2025.09.14]\n",
      "59. ［데뷔 60주년 기념공연］2025 남진 전국투어 콘서트 [2025.05.18 -]\n",
      "60. 2025 김창옥 토크콘서트 시즌5 [2025.04.19 -]\n",
      "61. 변진섭 전국투어 콘서트 : 변천사 시즌2 [2025.02.09 -]\n",
      "62. RETRO MUSIC CONCERT 〈최재훈×플라워〉 [2025.08.09, 2025.10.19]\n",
      "63. 옥탑재즈 [2025.02.14 - 2025.10.24]\n",
      "64. 2025 심수봉 전국투어 콘서트：꽃길 - 안동 [2025.09.13]\n",
      "65. 홍경민 매달리스트 콘서트 [2025.08.02]\n"
     ]
    }
   ],
   "source": [
    "import requests\n",
    "from bs4 import BeautifulSoup\n",
    "\n",
    "url = \"https://tickets.interpark.com/contents/genre/concert\"\n",
    "\n",
    "headers = {\"--user-agent\":\"Mozilla/5.0 (Macintosh; Intel Mac OS X 10_15_7) AppleWebKit/537.36 (KHTML, like Gecko) Chrome/138.0.0.0 Safari/537.36\"}\n",
    "\n",
    "response = requests.get(url, headers=headers)\n",
    "soup = BeautifulSoup(response.text, \"html.parser\")\n",
    "\n",
    "concerts = soup.select(\"ul.TicketItem_contentsWrap__xCe3A\")\n",
    "\n",
    "print(\"✅ 인터파크 인기 콘서트 목록 (제목 + 일정)\")\n",
    "\n",
    "for i, concert in enumerate(concerts, 1) :\n",
    "    title_tag = concert.select_one(\"li.TicketItem_goodsName__Ju76j\")\n",
    "    date_tag = concert.select_one(\"li.TicketItem_playDate__5ePr2\")\n",
    "\n",
    "    if title_tag and date_tag :\n",
    "        title = title_tag.text.strip()\n",
    "        date = date_tag.text.strip()\n",
    "    print(f\"{i}. {title} [{date}]\")"
   ]
  },
  {
   "cell_type": "code",
   "execution_count": null,
   "id": "72eeea4d-a12d-42a5-8956-ac7db8891291",
   "metadata": {},
   "outputs": [],
   "source": []
  },
  {
   "cell_type": "code",
   "execution_count": null,
   "id": "99fba3b4-1321-42a2-9618-2c6d1490b58e",
   "metadata": {},
   "outputs": [],
   "source": []
  },
  {
   "cell_type": "code",
   "execution_count": null,
   "id": "2c0e4d66-d669-4af1-b545-914b2ede3eb9",
   "metadata": {},
   "outputs": [],
   "source": []
  },
  {
   "cell_type": "code",
   "execution_count": null,
   "id": "0583ba1d-bfe7-4fd1-b80b-7f6b7f88ec6b",
   "metadata": {},
   "outputs": [],
   "source": []
  },
  {
   "cell_type": "code",
   "execution_count": null,
   "id": "217eab7a-980d-4a1c-ae1f-756d1e00f70d",
   "metadata": {},
   "outputs": [],
   "source": []
  }
 ],
 "metadata": {
  "kernelspec": {
   "display_name": "Python [conda env:base] *",
   "language": "python",
   "name": "conda-base-py"
  },
  "language_info": {
   "codemirror_mode": {
    "name": "ipython",
    "version": 3
   },
   "file_extension": ".py",
   "mimetype": "text/x-python",
   "name": "python",
   "nbconvert_exporter": "python",
   "pygments_lexer": "ipython3",
   "version": "3.13.5"
  }
 },
 "nbformat": 4,
 "nbformat_minor": 5
}
