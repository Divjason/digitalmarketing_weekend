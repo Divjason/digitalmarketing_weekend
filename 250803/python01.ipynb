{
 "cells": [
  {
   "cell_type": "markdown",
   "id": "d077a883-ddd5-44c0-b68e-b6e8453f5445",
   "metadata": {},
   "source": [
    "### Jupyter Notebook 사용방법\n",
    "- 주피터 노트북 코드를 입력할 수 있는 공간 : cell\n",
    "- 특정 셀안에 코드를 입력하다가 밖으로 나오고 싶다면 ESC\n",
    "- 해당 셀 위쪽에 새로운 셀 a = above\n",
    "- 해당 셀 아래쪽에 새로운 셀 b = below"
   ]
  },
  {
   "cell_type": "code",
   "execution_count": 6,
   "id": "99ca5393-ded5-453c-a1bf-a9abf5661d93",
   "metadata": {},
   "outputs": [
    {
     "name": "stdout",
     "output_type": "stream",
     "text": [
      "Hello World!\n"
     ]
    }
   ],
   "source": [
    "num = 1\n",
    "word = \"Hello World!\"\n",
    "print(word)"
   ]
  },
  {
   "cell_type": "code",
   "execution_count": 7,
   "id": "affe4cf9-248e-4191-b2ae-40dddb25bcc6",
   "metadata": {},
   "outputs": [
    {
     "name": "stdout",
     "output_type": "stream",
     "text": [
      "1\n"
     ]
    }
   ],
   "source": [
    "print(num)"
   ]
  },
  {
   "cell_type": "code",
   "execution_count": null,
   "id": "1d052192-4f33-4f58-a5a0-215995a9581d",
   "metadata": {},
   "outputs": [],
   "source": [
    "# 1. 파이썬 내장함수 -> 굳이 별도로 선언 및 생성하지 않아도 알아서 자동으로 실행되는 함수\n",
    "# *함수 = function => 기능 (*어떤 기능을 실행시킬 수 있도록 설계해놓은 코드들의 집합)\n",
    "# 프로그래밍 언어 => 함수의 형태는 => 영어문자( ) // 각각의 함수는 탄생된 이유 => print() : 무언가를 출력하기 위해서 탄생된 함수"
   ]
  },
  {
   "cell_type": "code",
   "execution_count": 8,
   "id": "0f1df42c-006a-4e68-bc55-394a03bec6f1",
   "metadata": {},
   "outputs": [
    {
     "name": "stdout",
     "output_type": "stream",
     "text": [
      "나는 오늘 파이썬을 처음 보았다!!!\n"
     ]
    }
   ],
   "source": [
    "print(\"나는 오늘 파이썬을 처음 보았다!!!\")"
   ]
  },
  {
   "cell_type": "code",
   "execution_count": 9,
   "id": "f67b5df4-9a1a-4b2f-955b-fa6196c772a4",
   "metadata": {},
   "outputs": [],
   "source": [
    "# 2. 연산 -> 사칙연산 : + - * /"
   ]
  },
  {
   "cell_type": "code",
   "execution_count": 12,
   "id": "f97dfe3e-93cd-4c79-844c-6022ab97e157",
   "metadata": {},
   "outputs": [
    {
     "name": "stdout",
     "output_type": "stream",
     "text": [
      "10\n",
      "7\n",
      "2.142857142857143\n",
      "3400\n"
     ]
    }
   ],
   "source": [
    "# num01 = 3 + 7\n",
    "# print(num01)\n",
    "\n",
    "print(3 + 7)\n",
    "print(10 - 3)\n",
    "print(15 / 7)\n",
    "print(34 * 100)"
   ]
  },
  {
   "cell_type": "code",
   "execution_count": 13,
   "id": "b00a8ab0-8cab-4667-9fbd-57f95bacec13",
   "metadata": {},
   "outputs": [],
   "source": [
    "# 3. 사칙연산 외 연산처리 : //, %, **"
   ]
  },
  {
   "cell_type": "code",
   "execution_count": 17,
   "id": "80b24778-0ca9-42f4-8acd-6f4bc74747ed",
   "metadata": {},
   "outputs": [
    {
     "name": "stdout",
     "output_type": "stream",
     "text": [
      "2\n",
      "1\n",
      "8\n"
     ]
    }
   ],
   "source": [
    "print(15 // 7) # 나누기 연산 후 몫\n",
    "print(7 % 3) # 나머지 값을 찾아오는 연산자\n",
    "print(2 ** 3) # 밑 ** 지수 => 제곱근 계산하고자 할 때"
   ]
  },
  {
   "cell_type": "code",
   "execution_count": 19,
   "id": "44a6c983-82ea-41ac-881d-abc7f04be694",
   "metadata": {},
   "outputs": [],
   "source": [
    "# 4. 변수 (*variable) => 가변적인\n",
    "# 변수라는 공간에 값을 입력 (*언제라도 가변적으로 변경)\n",
    "# 변수라는 공간에 입력할 수 있는 형태 (*타입)가 정해져있음 => 자료형\n",
    "# 문자열 => string (* \"new_world\")\n",
    "# 문자 => character (* 'n')\n",
    "# 숫자 => 정수형 integer (*양의정수, 음의정수, 0) VS 실수형 float (*소수점을 가지고 있는 숫자)\n",
    "# 논리형 => 참(true), 거짓(false)\n",
    "# 변수를 선언한다 & 변수안에 값을 할당\n",
    "# 선언하기 위한 변수명 좌(왼)항!!!\n",
    "# 선언된 변수안에 값을 넣을 때에는 우(오른)항!!!"
   ]
  },
  {
   "cell_type": "code",
   "execution_count": 18,
   "id": "5db2d220-9702-4f5a-bf51-0401fcf9b176",
   "metadata": {},
   "outputs": [
    {
     "name": "stdout",
     "output_type": "stream",
     "text": [
      "hello 1 1.0 True\n"
     ]
    }
   ],
   "source": [
    "str_data = \"hello\"\n",
    "int_data = 1\n",
    "float_data = 1.0\n",
    "bool_data = True\n",
    "\n",
    "print(str_data, int_data, float_data, bool_data)"
   ]
  },
  {
   "cell_type": "code",
   "execution_count": null,
   "id": "115c55a2-f46e-4189-b9e1-a0127d116652",
   "metadata": {},
   "outputs": [],
   "source": [
    "# 5. 변수 & 연산자 활용"
   ]
  },
  {
   "cell_type": "code",
   "execution_count": 22,
   "id": "35109f20-4af1-4ee4-a549-f74f1fddda45",
   "metadata": {},
   "outputs": [
    {
     "name": "stdout",
     "output_type": "stream",
     "text": [
      "19\n",
      "9\n",
      "70\n",
      "2.8\n"
     ]
    }
   ],
   "source": [
    "num02 = 14\n",
    "num03 = 5\n",
    "\n",
    "print(num02 + num03)\n",
    "print(num02 - num03)\n",
    "print(num02 * num03)\n",
    "print(num02 / num03)"
   ]
  },
  {
   "cell_type": "code",
   "execution_count": null,
   "id": "7dc3a581-7ce6-4e5a-a215-7ef55937157f",
   "metadata": {},
   "outputs": [],
   "source": [
    "# 6. 논리형 활용방법"
   ]
  },
  {
   "cell_type": "code",
   "execution_count": 29,
   "id": "e732f990-4c5c-4bde-a246-9bdd9082a6e5",
   "metadata": {},
   "outputs": [
    {
     "name": "stdout",
     "output_type": "stream",
     "text": [
      "14 < 5 : False\n",
      "14 < 5 : False\n",
      "True\n",
      "False\n",
      "True\n",
      "False\n",
      "True\n"
     ]
    }
   ],
   "source": [
    "# 비교연산자 : 피연사자간 비교를 위해서 탄생한 연산자들 : > < >= <= == !=\n",
    "# 대입연산자 : 특정 변수안에 값을 대입하기 위해서 탄생한 연산자 : =\n",
    "print(f\"{num02} < {num03} :\", num02 < num03) # Formatted String 약어 => f-string => f\" \"\n",
    "print(\"14 < 5 :\", num02 < num03)\n",
    "print(num02 > num03)\n",
    "print(num02 <= num03)\n",
    "print(num02 >= num03)\n",
    "print(num02 == num03)\n",
    "print(num02 != num03)"
   ]
  },
  {
   "cell_type": "code",
   "execution_count": null,
   "id": "de8276c5-d523-45be-8178-8a12c1463e97",
   "metadata": {},
   "outputs": [],
   "source": [
    "# 7. 변수이름 작명 시, 유의사항\n",
    "# 스네이크 표기법 : hello_world (*실무)\n",
    "# 카멜 표기법 : helloWorld\n",
    "# 1) 변수의 이름이 숫자로 시작로 시작하면 절대안됨\n",
    "# 2) 예약어 안됨 : 파이썬 이라는 언어가 개발되는 시점에서 미리 예약해놓은 단어들은 절대 사용하지 말 것 "
   ]
  },
  {
   "cell_type": "code",
   "execution_count": null,
   "id": "4e64f41e-45ae-47d3-89a3-94ff2b3df906",
   "metadata": {},
   "outputs": [],
   "source": [
    "# 반지름이 10인 1)원의 지름과 2)원의 둘레와 3) 원의 넓이를 계산하는 연산식을 작성하세요.\n",
    "# 그리고 해당 결과값을 변수에 입력한 후 해당 변수의 값을 출력해주세요.\n",
    "# 원의 둘레를 구하는 공식 => 2 * 파이 * 반지름\n",
    "# 원의 넓이를 구하는 공식 => 파이 * 반지름 * 제곱\n",
    "# 파이 = 3.1415"
   ]
  },
  {
   "cell_type": "code",
   "execution_count": 1,
   "id": "c8a9d4ed-1987-4941-9405-86128b3a9c27",
   "metadata": {},
   "outputs": [
    {
     "name": "stdout",
     "output_type": "stream",
     "text": [
      "반지름 :  10\n",
      "지름 :  20\n",
      "둘레 :  62.830000000000005\n",
      "넓이1 :  314.15000000000003\n",
      "넓이2 :  314.15000000000003\n"
     ]
    }
   ],
   "source": [
    "radius = 10\n",
    "pi = 3.1415\n",
    "radius2 = radius * 2\n",
    "\n",
    "radius3 = 2 * pi * radius\n",
    "radius4 = pi * (radius ** 2)\n",
    "radius5 = pi * radius * radius\n",
    "\n",
    "print(\"반지름 : \", radius)\n",
    "print(\"지름 : \", radius2)\n",
    "print(\"둘레 : \", radius3)\n",
    "print(\"넓이1 : \", radius4)\n",
    "print(\"넓이2 : \", radius5)"
   ]
  },
  {
   "cell_type": "code",
   "execution_count": null,
   "id": "1d953a3b-68f7-43bc-ad19-67cb0be15489",
   "metadata": {},
   "outputs": [],
   "source": [
    "# 8. 입 & 출력 관련 내장함수\n",
    "# input 함수를 사용할 때, 기능에는 전혀 도움을 주지 않지만, 보조적인 메세지 역할 => place holder 문장"
   ]
  },
  {
   "cell_type": "code",
   "execution_count": 3,
   "id": "c3c59257-8151-400d-9132-bcc228f19154",
   "metadata": {},
   "outputs": [
    {
     "name": "stdin",
     "output_type": "stream",
     "text": [
      "당신의 이름은? 박세진\n"
     ]
    },
    {
     "name": "stdout",
     "output_type": "stream",
     "text": [
      "Hi, 박세진\n"
     ]
    }
   ],
   "source": [
    "name = input(\"당신의 이름은?\")\n",
    "print(f\"Hi, {name}\")"
   ]
  },
  {
   "cell_type": "code",
   "execution_count": 6,
   "id": "1cc9a6af-60f9-4b0e-a604-2c88bae2e43e",
   "metadata": {},
   "outputs": [
    {
     "name": "stdin",
     "output_type": "stream",
     "text": [
      "당신이 좋아하는 숫자 1개를 입력하세요! 3\n"
     ]
    },
    {
     "name": "stdout",
     "output_type": "stream",
     "text": [
      "30\n"
     ]
    }
   ],
   "source": [
    "digit = input(\"당신이 좋아하는 숫자 1개를 입력하세요!\") # input이라는 함수를 사용하면 반드시 문자의 형태로 값을 가져온다\n",
    "result = 10 * int(digit)\n",
    "print(result)"
   ]
  },
  {
   "cell_type": "code",
   "execution_count": 7,
   "id": "568b0884-38a0-40eb-a618-034b4d4d9eee",
   "metadata": {},
   "outputs": [],
   "source": [
    "# 9. 형(태) 변환 함수\n",
    "# int(\"7\") -> string to integer : 7\n",
    "# int(3.6) -> float to interger : 3\n",
    "# float(3) -> integer to float : 3.0\n",
    "# str(1) -> integer to string : \"1\"\n",
    "# bool(0) -> integer to boolean : False => Falsy\n",
    "# bool(1 or int) -> integer to boolean : True => Truthy\n",
    "\n",
    "# ----\n",
    "\n",
    "# list / tuple / dictionary / set\n",
    "# 현재 이 변수안에 담긴 자료형(태)가 무엇인지 직관적으로 잘 모르겠을 때, 사용할 수 있는 함수 => type() : 해당 자료의 타입을 알려줌!!!"
   ]
  },
  {
   "cell_type": "code",
   "execution_count": 19,
   "id": "b17c86d3-dba0-475a-9df3-08ffed3027e1",
   "metadata": {},
   "outputs": [
    {
     "name": "stdout",
     "output_type": "stream",
     "text": [
      "7\n",
      "<class 'int'>\n",
      "<class 'float'>\n",
      "<class 'str'>\n",
      "<class 'bool'>\n"
     ]
    },
    {
     "data": {
      "text/plain": [
       "False"
      ]
     },
     "execution_count": 19,
     "metadata": {},
     "output_type": "execute_result"
    }
   ],
   "source": [
    "int_example01 = int(\"7\")\n",
    "print(int_example01)\n",
    "print(type(int_example01))\n",
    "\n",
    "int(3.6)\n",
    "\n",
    "print(type(float(3)))\n",
    "\n",
    "print(type(str(1)))\n",
    "\n",
    "print(type(bool(100)))\n",
    "\n",
    "bool(0)"
   ]
  },
  {
   "cell_type": "code",
   "execution_count": null,
   "id": "2cfee3f1-8c0e-4e16-b6d8-7d2d30bfb5f5",
   "metadata": {},
   "outputs": [],
   "source": [
    "# 10. 함수의 종류\n",
    "# 내장함수 : 이미 내장되어있는 함수\n",
    "# 커스텀함수 : 직접 내가 만들어가는 함수\n",
    "# 영문자() => 함수다!!!!\n",
    "# 소괄호() 안에 입력되는 값을 인수 혹은 인자값 => argument => 매개변수"
   ]
  },
  {
   "cell_type": "code",
   "execution_count": 21,
   "id": "02d3fd3b-6d92-4bf2-98ae-f4e7eb88f883",
   "metadata": {},
   "outputs": [
    {
     "name": "stdin",
     "output_type": "stream",
     "text": [
      "How old are you? 20\n"
     ]
    },
    {
     "name": "stdout",
     "output_type": "stream",
     "text": [
      "20\n"
     ]
    }
   ],
   "source": [
    "# Type Casting\n",
    "# namelist = input(\"How old are you?\")\n",
    "# exchange = int(namelist)\n",
    "# print(exchange)\n",
    "\n",
    "print(int(input(\"How old are you?\")))"
   ]
  },
  {
   "cell_type": "code",
   "execution_count": 22,
   "id": "5215e7a8-4715-41b2-be86-97ad746ab3f3",
   "metadata": {},
   "outputs": [],
   "source": [
    "# 11. 문자열 관련 함수\n",
    "# length => 길이 => len() => 문자열의 전체 길이\n",
    "# count(\"특정문자\") => 특정문자가 몇 번 사용되었는가 확인\n",
    "# find(\"특정문자\") => 특정문자가 시작되는 인덱스 번호 값을 확인\n",
    "# replace(\"교체할 문자\", \"교체하고 싶은 문자\")"
   ]
  },
  {
   "cell_type": "code",
   "execution_count": 23,
   "id": "d79c5617-220f-45d4-b2d2-08b4f68aeedd",
   "metadata": {},
   "outputs": [
    {
     "data": {
      "text/plain": [
       "6"
      ]
     },
     "execution_count": 23,
     "metadata": {},
     "output_type": "execute_result"
    }
   ],
   "source": [
    "some_str = \"python\"\n",
    "len(some_str)"
   ]
  },
  {
   "cell_type": "code",
   "execution_count": 24,
   "id": "09fed36b-0d0e-4429-a1ac-260af74becce",
   "metadata": {},
   "outputs": [
    {
     "data": {
      "text/plain": [
       "156"
      ]
     },
     "execution_count": 24,
     "metadata": {},
     "output_type": "execute_result"
    }
   ],
   "source": [
    "oliveyoung_review01 = \"너무너무귀여워여 ...진짜 통통퍼프가 키티로 되어있으니 진짜 너무 예뻐서 안살수가 없었어요! 저같은경우에 필리밀리 파운데이션 브러쉬로 1차 파운데이션 도포 후 통통퍼프로 톡톡치는데 진짜로 화장이 잘먹어요! 근데 또 디자인까지 이렇게 기엽다니! 또 구매하고 싶을정도로 예쁘네요^_^\"\n",
    "len(oliveyoung_review01)"
   ]
  },
  {
   "cell_type": "code",
   "execution_count": 12,
   "id": "faddfdd0-0700-413f-977d-3333620afde0",
   "metadata": {},
   "outputs": [
    {
     "name": "stdout",
     "output_type": "stream",
     "text": [
      "oliveyOung 건기식 최고\n"
     ]
    }
   ],
   "source": [
    "# \\n, \\t => escape sequence\n",
    "oliveyoung_review02 = \"\"\"똥손이라 살짝 무서웠는데 엄청 좋아요\n",
    "부분 부분 나눠서 찝어주고 속눈썹 세럼만 바르고 나갔는데\n",
    "쳐짐이 덜 하더라구요 컬링도 예쁘게 되서 좋았어요 !\\n\n",
    "예열할때\\t 실리콘 패드 컬러가 변해서 편했고\n",
    "속눈썹 눈 부분에 할때 악 놀랄만큼 뜨겁진 않아서 더 좋았어요 속눈썹에는 짱이에요\"\"\"\n",
    "len(oliveyoung_review02) # 전체 문자열의 개수\n",
    "oliveyoung_review02.count(\"속눈썹\") # 인자로 적용된 문자가 몇번 사용되었는가 체크\n",
    "oliveyoung_review02.find(\"속눈썹\")\n",
    "\n",
    "review_sample = \"oliveyOung 화장품 최고\"\n",
    "# print(len(review_sample))\n",
    "# review_sample.find(\"O\")\n",
    "\n",
    "print(review_sample.replace(\"화장품\", \"건기식\"))\n",
    "\n",
    "# 문자열은 무조건 문자열 내 각각의 문자마다 고유한 인덱스 번호를 가지고 있음\n",
    "# print(oliveyoung_review02)"
   ]
  },
  {
   "cell_type": "code",
   "execution_count": null,
   "id": "5e61dcb3-fad3-4ba6-841b-61c39453256f",
   "metadata": {},
   "outputs": [],
   "source": [
    "# 12. 문자열 내 각각의 문자가 가지고 있는 고유한 인덱스 번호를 활용해서 문자를 찾아올 수 있음"
   ]
  },
  {
   "cell_type": "code",
   "execution_count": 17,
   "id": "0679d8b3-5b6a-47ef-89ae-e38361d14f30",
   "metadata": {},
   "outputs": [
    {
     "name": "stdout",
     "output_type": "stream",
     "text": [
      "n n\n"
     ]
    }
   ],
   "source": [
    "program = \"python\"\n",
    "\n",
    "print(program[5], program[-1])"
   ]
  },
  {
   "cell_type": "code",
   "execution_count": null,
   "id": "7d9578fa-adcd-478f-81e0-a2460b517a27",
   "metadata": {},
   "outputs": [],
   "source": [
    "# 13. 문자열은 특정번째 인덱스에서 특정번째 인덱스까지 문자를 찾아올 수 있도록 허락!!\n",
    "# 슬라이싱 기능"
   ]
  },
  {
   "cell_type": "code",
   "execution_count": 23,
   "id": "ad75853c-ffcb-466f-8bf0-d4219b7d110a",
   "metadata": {},
   "outputs": [
    {
     "data": {
      "text/plain": [
       "'tho'"
      ]
     },
     "execution_count": 23,
     "metadata": {},
     "output_type": "execute_result"
    }
   ],
   "source": [
    "program[:2]\n",
    "program[2:]\n",
    "program[2:-1]"
   ]
  },
  {
   "cell_type": "code",
   "execution_count": 30,
   "id": "98b39137-eb5c-4f04-969a-e35397ee9124",
   "metadata": {},
   "outputs": [
    {
     "name": "stdout",
     "output_type": "stream",
     "text": [
      "     올리브영     \n",
      "올리브영\n",
      "올리브영\n",
      "올리브영..**\n"
     ]
    }
   ],
   "source": [
    "some_string01 = \"     올리브영     \"\n",
    "some_string04 = \"....올리브영..**\"\n",
    "some_string02 = some_string01.replace(\" \", \"\")\n",
    "some_string03 = some_string01.strip() # strip() 안에 아무런 인자값을 넣지 않으면 자동으로 공백을 의미!!!\n",
    "some_string05 = some_string04.strip(\".\")\n",
    "\n",
    "print(some_string01)\n",
    "print(some_string02)\n",
    "print(some_string03)\n",
    "print(some_string05)"
   ]
  },
  {
   "cell_type": "code",
   "execution_count": 34,
   "id": "6dbf19ce-c037-4b1a-b6b9-f47c606ff605",
   "metadata": {},
   "outputs": [
    {
     "name": "stdout",
     "output_type": "stream",
     "text": [
      "I have a pencil, I have an actor.\n",
      "I have a actor, I have an pencil.\n"
     ]
    }
   ],
   "source": [
    "print(\"I have a {}, I have an {}.\".format(\"pencil\", \"actor\"))\n",
    "print(\"I have a {1}, I have an {0}.\".format(\"pencil\", \"actor\"))"
   ]
  }
 ],
 "metadata": {
  "kernelspec": {
   "display_name": "Python [conda env:base] *",
   "language": "python",
   "name": "conda-base-py"
  },
  "language_info": {
   "codemirror_mode": {
    "name": "ipython",
    "version": 3
   },
   "file_extension": ".py",
   "mimetype": "text/x-python",
   "name": "python",
   "nbconvert_exporter": "python",
   "pygments_lexer": "ipython3",
   "version": "3.13.5"
  }
 },
 "nbformat": 4,
 "nbformat_minor": 5
}
